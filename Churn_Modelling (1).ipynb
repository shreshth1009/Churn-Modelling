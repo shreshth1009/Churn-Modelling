{
  "nbformat": 4,
  "nbformat_minor": 0,
  "metadata": {
    "colab": {
      "name": "Churn Modelling.ipynb",
      "provenance": []
    },
    "kernelspec": {
      "name": "python3",
      "display_name": "Python 3"
    },
    "language_info": {
      "name": "python"
    },
    "accelerator": "GPU"
  },
  "cells": [
    {
      "cell_type": "code",
      "execution_count": null,
      "metadata": {
        "id": "j_eIf0XFkN5b"
      },
      "outputs": [],
      "source": [
        "import pandas as pd\n",
        "import numpy as np\n",
        "import matplotlib.pyplot as plt\n",
        "import seaborn as sns"
      ]
    },
    {
      "cell_type": "code",
      "source": [
        "df=pd.read_csv(\"/content/drive/MyDrive/ML & DL/Projects/Churn Modelling/Churn_Modelling.csv\")\n",
        "df.head(10)"
      ],
      "metadata": {
        "colab": {
          "base_uri": "https://localhost:8080/",
          "height": 407
        },
        "id": "8VAabCovmDxA",
        "outputId": "4f3a6cdd-ea03-45b6-e4fd-5bb26485c0c8"
      },
      "execution_count": null,
      "outputs": [
        {
          "output_type": "execute_result",
          "data": {
            "text/html": [
              "\n",
              "  <div id=\"df-57b9a3fa-9f85-44c4-a9bd-ba97345d4b3b\">\n",
              "    <div class=\"colab-df-container\">\n",
              "      <div>\n",
              "<style scoped>\n",
              "    .dataframe tbody tr th:only-of-type {\n",
              "        vertical-align: middle;\n",
              "    }\n",
              "\n",
              "    .dataframe tbody tr th {\n",
              "        vertical-align: top;\n",
              "    }\n",
              "\n",
              "    .dataframe thead th {\n",
              "        text-align: right;\n",
              "    }\n",
              "</style>\n",
              "<table border=\"1\" class=\"dataframe\">\n",
              "  <thead>\n",
              "    <tr style=\"text-align: right;\">\n",
              "      <th></th>\n",
              "      <th>RowNumber</th>\n",
              "      <th>CustomerId</th>\n",
              "      <th>Surname</th>\n",
              "      <th>CreditScore</th>\n",
              "      <th>Geography</th>\n",
              "      <th>Gender</th>\n",
              "      <th>Age</th>\n",
              "      <th>Tenure</th>\n",
              "      <th>Balance</th>\n",
              "      <th>NumOfProducts</th>\n",
              "      <th>HasCrCard</th>\n",
              "      <th>IsActiveMember</th>\n",
              "      <th>EstimatedSalary</th>\n",
              "      <th>Exited</th>\n",
              "    </tr>\n",
              "  </thead>\n",
              "  <tbody>\n",
              "    <tr>\n",
              "      <th>0</th>\n",
              "      <td>1</td>\n",
              "      <td>15634602</td>\n",
              "      <td>Hargrave</td>\n",
              "      <td>619</td>\n",
              "      <td>France</td>\n",
              "      <td>Female</td>\n",
              "      <td>42</td>\n",
              "      <td>2</td>\n",
              "      <td>0.00</td>\n",
              "      <td>1</td>\n",
              "      <td>1</td>\n",
              "      <td>1</td>\n",
              "      <td>101348.88</td>\n",
              "      <td>1</td>\n",
              "    </tr>\n",
              "    <tr>\n",
              "      <th>1</th>\n",
              "      <td>2</td>\n",
              "      <td>15647311</td>\n",
              "      <td>Hill</td>\n",
              "      <td>608</td>\n",
              "      <td>Spain</td>\n",
              "      <td>Female</td>\n",
              "      <td>41</td>\n",
              "      <td>1</td>\n",
              "      <td>83807.86</td>\n",
              "      <td>1</td>\n",
              "      <td>0</td>\n",
              "      <td>1</td>\n",
              "      <td>112542.58</td>\n",
              "      <td>0</td>\n",
              "    </tr>\n",
              "    <tr>\n",
              "      <th>2</th>\n",
              "      <td>3</td>\n",
              "      <td>15619304</td>\n",
              "      <td>Onio</td>\n",
              "      <td>502</td>\n",
              "      <td>France</td>\n",
              "      <td>Female</td>\n",
              "      <td>42</td>\n",
              "      <td>8</td>\n",
              "      <td>159660.80</td>\n",
              "      <td>3</td>\n",
              "      <td>1</td>\n",
              "      <td>0</td>\n",
              "      <td>113931.57</td>\n",
              "      <td>1</td>\n",
              "    </tr>\n",
              "    <tr>\n",
              "      <th>3</th>\n",
              "      <td>4</td>\n",
              "      <td>15701354</td>\n",
              "      <td>Boni</td>\n",
              "      <td>699</td>\n",
              "      <td>France</td>\n",
              "      <td>Female</td>\n",
              "      <td>39</td>\n",
              "      <td>1</td>\n",
              "      <td>0.00</td>\n",
              "      <td>2</td>\n",
              "      <td>0</td>\n",
              "      <td>0</td>\n",
              "      <td>93826.63</td>\n",
              "      <td>0</td>\n",
              "    </tr>\n",
              "    <tr>\n",
              "      <th>4</th>\n",
              "      <td>5</td>\n",
              "      <td>15737888</td>\n",
              "      <td>Mitchell</td>\n",
              "      <td>850</td>\n",
              "      <td>Spain</td>\n",
              "      <td>Female</td>\n",
              "      <td>43</td>\n",
              "      <td>2</td>\n",
              "      <td>125510.82</td>\n",
              "      <td>1</td>\n",
              "      <td>1</td>\n",
              "      <td>1</td>\n",
              "      <td>79084.10</td>\n",
              "      <td>0</td>\n",
              "    </tr>\n",
              "    <tr>\n",
              "      <th>5</th>\n",
              "      <td>6</td>\n",
              "      <td>15574012</td>\n",
              "      <td>Chu</td>\n",
              "      <td>645</td>\n",
              "      <td>Spain</td>\n",
              "      <td>Male</td>\n",
              "      <td>44</td>\n",
              "      <td>8</td>\n",
              "      <td>113755.78</td>\n",
              "      <td>2</td>\n",
              "      <td>1</td>\n",
              "      <td>0</td>\n",
              "      <td>149756.71</td>\n",
              "      <td>1</td>\n",
              "    </tr>\n",
              "    <tr>\n",
              "      <th>6</th>\n",
              "      <td>7</td>\n",
              "      <td>15592531</td>\n",
              "      <td>Bartlett</td>\n",
              "      <td>822</td>\n",
              "      <td>France</td>\n",
              "      <td>Male</td>\n",
              "      <td>50</td>\n",
              "      <td>7</td>\n",
              "      <td>0.00</td>\n",
              "      <td>2</td>\n",
              "      <td>1</td>\n",
              "      <td>1</td>\n",
              "      <td>10062.80</td>\n",
              "      <td>0</td>\n",
              "    </tr>\n",
              "    <tr>\n",
              "      <th>7</th>\n",
              "      <td>8</td>\n",
              "      <td>15656148</td>\n",
              "      <td>Obinna</td>\n",
              "      <td>376</td>\n",
              "      <td>Germany</td>\n",
              "      <td>Female</td>\n",
              "      <td>29</td>\n",
              "      <td>4</td>\n",
              "      <td>115046.74</td>\n",
              "      <td>4</td>\n",
              "      <td>1</td>\n",
              "      <td>0</td>\n",
              "      <td>119346.88</td>\n",
              "      <td>1</td>\n",
              "    </tr>\n",
              "    <tr>\n",
              "      <th>8</th>\n",
              "      <td>9</td>\n",
              "      <td>15792365</td>\n",
              "      <td>He</td>\n",
              "      <td>501</td>\n",
              "      <td>France</td>\n",
              "      <td>Male</td>\n",
              "      <td>44</td>\n",
              "      <td>4</td>\n",
              "      <td>142051.07</td>\n",
              "      <td>2</td>\n",
              "      <td>0</td>\n",
              "      <td>1</td>\n",
              "      <td>74940.50</td>\n",
              "      <td>0</td>\n",
              "    </tr>\n",
              "    <tr>\n",
              "      <th>9</th>\n",
              "      <td>10</td>\n",
              "      <td>15592389</td>\n",
              "      <td>H?</td>\n",
              "      <td>684</td>\n",
              "      <td>France</td>\n",
              "      <td>Male</td>\n",
              "      <td>27</td>\n",
              "      <td>2</td>\n",
              "      <td>134603.88</td>\n",
              "      <td>1</td>\n",
              "      <td>1</td>\n",
              "      <td>1</td>\n",
              "      <td>71725.73</td>\n",
              "      <td>0</td>\n",
              "    </tr>\n",
              "  </tbody>\n",
              "</table>\n",
              "</div>\n",
              "      <button class=\"colab-df-convert\" onclick=\"convertToInteractive('df-57b9a3fa-9f85-44c4-a9bd-ba97345d4b3b')\"\n",
              "              title=\"Convert this dataframe to an interactive table.\"\n",
              "              style=\"display:none;\">\n",
              "        \n",
              "  <svg xmlns=\"http://www.w3.org/2000/svg\" height=\"24px\"viewBox=\"0 0 24 24\"\n",
              "       width=\"24px\">\n",
              "    <path d=\"M0 0h24v24H0V0z\" fill=\"none\"/>\n",
              "    <path d=\"M18.56 5.44l.94 2.06.94-2.06 2.06-.94-2.06-.94-.94-2.06-.94 2.06-2.06.94zm-11 1L8.5 8.5l.94-2.06 2.06-.94-2.06-.94L8.5 2.5l-.94 2.06-2.06.94zm10 10l.94 2.06.94-2.06 2.06-.94-2.06-.94-.94-2.06-.94 2.06-2.06.94z\"/><path d=\"M17.41 7.96l-1.37-1.37c-.4-.4-.92-.59-1.43-.59-.52 0-1.04.2-1.43.59L10.3 9.45l-7.72 7.72c-.78.78-.78 2.05 0 2.83L4 21.41c.39.39.9.59 1.41.59.51 0 1.02-.2 1.41-.59l7.78-7.78 2.81-2.81c.8-.78.8-2.07 0-2.86zM5.41 20L4 18.59l7.72-7.72 1.47 1.35L5.41 20z\"/>\n",
              "  </svg>\n",
              "      </button>\n",
              "      \n",
              "  <style>\n",
              "    .colab-df-container {\n",
              "      display:flex;\n",
              "      flex-wrap:wrap;\n",
              "      gap: 12px;\n",
              "    }\n",
              "\n",
              "    .colab-df-convert {\n",
              "      background-color: #E8F0FE;\n",
              "      border: none;\n",
              "      border-radius: 50%;\n",
              "      cursor: pointer;\n",
              "      display: none;\n",
              "      fill: #1967D2;\n",
              "      height: 32px;\n",
              "      padding: 0 0 0 0;\n",
              "      width: 32px;\n",
              "    }\n",
              "\n",
              "    .colab-df-convert:hover {\n",
              "      background-color: #E2EBFA;\n",
              "      box-shadow: 0px 1px 2px rgba(60, 64, 67, 0.3), 0px 1px 3px 1px rgba(60, 64, 67, 0.15);\n",
              "      fill: #174EA6;\n",
              "    }\n",
              "\n",
              "    [theme=dark] .colab-df-convert {\n",
              "      background-color: #3B4455;\n",
              "      fill: #D2E3FC;\n",
              "    }\n",
              "\n",
              "    [theme=dark] .colab-df-convert:hover {\n",
              "      background-color: #434B5C;\n",
              "      box-shadow: 0px 1px 3px 1px rgba(0, 0, 0, 0.15);\n",
              "      filter: drop-shadow(0px 1px 2px rgba(0, 0, 0, 0.3));\n",
              "      fill: #FFFFFF;\n",
              "    }\n",
              "  </style>\n",
              "\n",
              "      <script>\n",
              "        const buttonEl =\n",
              "          document.querySelector('#df-57b9a3fa-9f85-44c4-a9bd-ba97345d4b3b button.colab-df-convert');\n",
              "        buttonEl.style.display =\n",
              "          google.colab.kernel.accessAllowed ? 'block' : 'none';\n",
              "\n",
              "        async function convertToInteractive(key) {\n",
              "          const element = document.querySelector('#df-57b9a3fa-9f85-44c4-a9bd-ba97345d4b3b');\n",
              "          const dataTable =\n",
              "            await google.colab.kernel.invokeFunction('convertToInteractive',\n",
              "                                                     [key], {});\n",
              "          if (!dataTable) return;\n",
              "\n",
              "          const docLinkHtml = 'Like what you see? Visit the ' +\n",
              "            '<a target=\"_blank\" href=https://colab.research.google.com/notebooks/data_table.ipynb>data table notebook</a>'\n",
              "            + ' to learn more about interactive tables.';\n",
              "          element.innerHTML = '';\n",
              "          dataTable['output_type'] = 'display_data';\n",
              "          await google.colab.output.renderOutput(dataTable, element);\n",
              "          const docLink = document.createElement('div');\n",
              "          docLink.innerHTML = docLinkHtml;\n",
              "          element.appendChild(docLink);\n",
              "        }\n",
              "      </script>\n",
              "    </div>\n",
              "  </div>\n",
              "  "
            ],
            "text/plain": [
              "   RowNumber  CustomerId   Surname  ...  IsActiveMember EstimatedSalary Exited\n",
              "0          1    15634602  Hargrave  ...               1       101348.88      1\n",
              "1          2    15647311      Hill  ...               1       112542.58      0\n",
              "2          3    15619304      Onio  ...               0       113931.57      1\n",
              "3          4    15701354      Boni  ...               0        93826.63      0\n",
              "4          5    15737888  Mitchell  ...               1        79084.10      0\n",
              "5          6    15574012       Chu  ...               0       149756.71      1\n",
              "6          7    15592531  Bartlett  ...               1        10062.80      0\n",
              "7          8    15656148    Obinna  ...               0       119346.88      1\n",
              "8          9    15792365        He  ...               1        74940.50      0\n",
              "9         10    15592389        H?  ...               1        71725.73      0\n",
              "\n",
              "[10 rows x 14 columns]"
            ]
          },
          "metadata": {},
          "execution_count": 2
        }
      ]
    },
    {
      "cell_type": "code",
      "source": [
        "df.shape"
      ],
      "metadata": {
        "colab": {
          "base_uri": "https://localhost:8080/"
        },
        "id": "htXqq-DUmLpO",
        "outputId": "dddcd8cd-0bdf-4d04-aac9-f89f77f7b230"
      },
      "execution_count": null,
      "outputs": [
        {
          "output_type": "execute_result",
          "data": {
            "text/plain": [
              "(10000, 14)"
            ]
          },
          "metadata": {},
          "execution_count": 3
        }
      ]
    },
    {
      "cell_type": "code",
      "source": [
        "# df['Geography'].\n",
        "df.isnull().sum()"
      ],
      "metadata": {
        "colab": {
          "base_uri": "https://localhost:8080/"
        },
        "id": "LOTgthEFmOnB",
        "outputId": "f1032538-0df8-446f-befc-33e6e378a0ec"
      },
      "execution_count": null,
      "outputs": [
        {
          "output_type": "execute_result",
          "data": {
            "text/plain": [
              "RowNumber          0\n",
              "CustomerId         0\n",
              "Surname            0\n",
              "CreditScore        0\n",
              "Geography          0\n",
              "Gender             0\n",
              "Age                0\n",
              "Tenure             0\n",
              "Balance            0\n",
              "NumOfProducts      0\n",
              "HasCrCard          0\n",
              "IsActiveMember     0\n",
              "EstimatedSalary    0\n",
              "Exited             0\n",
              "dtype: int64"
            ]
          },
          "metadata": {},
          "execution_count": 4
        }
      ]
    },
    {
      "cell_type": "code",
      "source": [
        "df.nunique()"
      ],
      "metadata": {
        "colab": {
          "base_uri": "https://localhost:8080/"
        },
        "id": "8A-5ManRmxeu",
        "outputId": "ab54ace7-ab63-43e8-b712-952cf144f3be"
      },
      "execution_count": null,
      "outputs": [
        {
          "output_type": "execute_result",
          "data": {
            "text/plain": [
              "RowNumber          10000\n",
              "CustomerId         10000\n",
              "Surname             2932\n",
              "CreditScore          460\n",
              "Geography              3\n",
              "Gender                 2\n",
              "Age                   70\n",
              "Tenure                11\n",
              "Balance             6382\n",
              "NumOfProducts          4\n",
              "HasCrCard              2\n",
              "IsActiveMember         2\n",
              "EstimatedSalary     9999\n",
              "Exited                 2\n",
              "dtype: int64"
            ]
          },
          "metadata": {},
          "execution_count": 5
        }
      ]
    },
    {
      "cell_type": "code",
      "source": [
        "plt.figure(figsize=(5,5))\n",
        "sns.countplot('Geography',hue='Exited',data=df, palette=['#E4A497','#432371'])\n",
        "plt.show()"
      ],
      "metadata": {
        "colab": {
          "base_uri": "https://localhost:8080/",
          "height": 389
        },
        "id": "6cXOrVrInJY-",
        "outputId": "1ddf008a-ae10-4dcf-a24e-fd611ebc2939"
      },
      "execution_count": null,
      "outputs": [
        {
          "output_type": "stream",
          "name": "stderr",
          "text": [
            "/usr/local/lib/python3.7/dist-packages/seaborn/_decorators.py:43: FutureWarning: Pass the following variable as a keyword arg: x. From version 0.12, the only valid positional argument will be `data`, and passing other arguments without an explicit keyword will result in an error or misinterpretation.\n",
            "  FutureWarning\n"
          ]
        },
        {
          "output_type": "display_data",
          "data": {
            "image/png": "[encoded data removed]",
            "text/plain": [
              "<Figure size 360x360 with 1 Axes>"
            ]
          },
          "metadata": {
            "needs_background": "light"
          }
        }
      ]
    },
    {
      "cell_type": "code",
      "source": [
        "df['Geography'].replace({'France':1, 'Spain':0, 'Germany':2},inplace=True)\n",
        "df['Gender'].replace({'Male':0, 'Female':1},inplace=True)"
      ],
      "metadata": {
        "id": "q6v31WCyp1Ut"
      },
      "execution_count": null,
      "outputs": []
    },
    {
      "cell_type": "code",
      "source": [
        "df.head()"
      ],
      "metadata": {
        "colab": {
          "base_uri": "https://localhost:8080/",
          "height": 250
        },
        "id": "vWr-aaDOqx8Z",
        "outputId": "fa266043-b904-4557-cdfb-51417f911e03"
      },
      "execution_count": null,
      "outputs": [
        {
          "output_type": "execute_result",
          "data": {
            "text/html": [
              "\n",
              "  <div id=\"df-0dba466c-f819-4d6e-9703-991e384742ae\">\n",
              "    <div class=\"colab-df-container\">\n",
              "      <div>\n",
              "<style scoped>\n",
              "    .dataframe tbody tr th:only-of-type {\n",
              "        vertical-align: middle;\n",
              "    }\n",
              "\n",
              "    .dataframe tbody tr th {\n",
              "        vertical-align: top;\n",
              "    }\n",
              "\n",
              "    .dataframe thead th {\n",
              "        text-align: right;\n",
              "    }\n",
              "</style>\n",
              "<table border=\"1\" class=\"dataframe\">\n",
              "  <thead>\n",
              "    <tr style=\"text-align: right;\">\n",
              "      <th></th>\n",
              "      <th>RowNumber</th>\n",
              "      <th>CustomerId</th>\n",
              "      <th>Surname</th>\n",
              "      <th>CreditScore</th>\n",
              "      <th>Geography</th>\n",
              "      <th>Gender</th>\n",
              "      <th>Age</th>\n",
              "      <th>Tenure</th>\n",
              "      <th>Balance</th>\n",
              "      <th>NumOfProducts</th>\n",
              "      <th>HasCrCard</th>\n",
              "      <th>IsActiveMember</th>\n",
              "      <th>EstimatedSalary</th>\n",
              "      <th>Exited</th>\n",
              "    </tr>\n",
              "  </thead>\n",
              "  <tbody>\n",
              "    <tr>\n",
              "      <th>0</th>\n",
              "      <td>1</td>\n",
              "      <td>15634602</td>\n",
              "      <td>Hargrave</td>\n",
              "      <td>619</td>\n",
              "      <td>1</td>\n",
              "      <td>1</td>\n",
              "      <td>42</td>\n",
              "      <td>2</td>\n",
              "      <td>0.00</td>\n",
              "      <td>1</td>\n",
              "      <td>1</td>\n",
              "      <td>1</td>\n",
              "      <td>101348.88</td>\n",
              "      <td>1</td>\n",
              "    </tr>\n",
              "    <tr>\n",
              "      <th>1</th>\n",
              "      <td>2</td>\n",
              "      <td>15647311</td>\n",
              "      <td>Hill</td>\n",
              "      <td>608</td>\n",
              "      <td>0</td>\n",
              "      <td>1</td>\n",
              "      <td>41</td>\n",
              "      <td>1</td>\n",
              "      <td>83807.86</td>\n",
              "      <td>1</td>\n",
              "      <td>0</td>\n",
              "      <td>1</td>\n",
              "      <td>112542.58</td>\n",
              "      <td>0</td>\n",
              "    </tr>\n",
              "    <tr>\n",
              "      <th>2</th>\n",
              "      <td>3</td>\n",
              "      <td>15619304</td>\n",
              "      <td>Onio</td>\n",
              "      <td>502</td>\n",
              "      <td>1</td>\n",
              "      <td>1</td>\n",
              "      <td>42</td>\n",
              "      <td>8</td>\n",
              "      <td>159660.80</td>\n",
              "      <td>3</td>\n",
              "      <td>1</td>\n",
              "      <td>0</td>\n",
              "      <td>113931.57</td>\n",
              "      <td>1</td>\n",
              "    </tr>\n",
              "    <tr>\n",
              "      <th>3</th>\n",
              "      <td>4</td>\n",
              "      <td>15701354</td>\n",
              "      <td>Boni</td>\n",
              "      <td>699</td>\n",
              "      <td>1</td>\n",
              "      <td>1</td>\n",
              "      <td>39</td>\n",
              "      <td>1</td>\n",
              "      <td>0.00</td>\n",
              "      <td>2</td>\n",
              "      <td>0</td>\n",
              "      <td>0</td>\n",
              "      <td>93826.63</td>\n",
              "      <td>0</td>\n",
              "    </tr>\n",
              "    <tr>\n",
              "      <th>4</th>\n",
              "      <td>5</td>\n",
              "      <td>15737888</td>\n",
              "      <td>Mitchell</td>\n",
              "      <td>850</td>\n",
              "      <td>0</td>\n",
              "      <td>1</td>\n",
              "      <td>43</td>\n",
              "      <td>2</td>\n",
              "      <td>125510.82</td>\n",
              "      <td>1</td>\n",
              "      <td>1</td>\n",
              "      <td>1</td>\n",
              "      <td>79084.10</td>\n",
              "      <td>0</td>\n",
              "    </tr>\n",
              "  </tbody>\n",
              "</table>\n",
              "</div>\n",
              "      <button class=\"colab-df-convert\" onclick=\"convertToInteractive('df-0dba466c-f819-4d6e-9703-991e384742ae')\"\n",
              "              title=\"Convert this dataframe to an interactive table.\"\n",
              "              style=\"display:none;\">\n",
              "        \n",
              "  <svg xmlns=\"http://www.w3.org/2000/svg\" height=\"24px\"viewBox=\"0 0 24 24\"\n",
              "       width=\"24px\">\n",
              "    <path d=\"M0 0h24v24H0V0z\" fill=\"none\"/>\n",
              "    <path d=\"M18.56 5.44l.94 2.06.94-2.06 2.06-.94-2.06-.94-.94-2.06-.94 2.06-2.06.94zm-11 1L8.5 8.5l.94-2.06 2.06-.94-2.06-.94L8.5 2.5l-.94 2.06-2.06.94zm10 10l.94 2.06.94-2.06 2.06-.94-2.06-.94-.94-2.06-.94 2.06-2.06.94z\"/><path d=\"M17.41 7.96l-1.37-1.37c-.4-.4-.92-.59-1.43-.59-.52 0-1.04.2-1.43.59L10.3 9.45l-7.72 7.72c-.78.78-.78 2.05 0 2.83L4 21.41c.39.39.9.59 1.41.59.51 0 1.02-.2 1.41-.59l7.78-7.78 2.81-2.81c.8-.78.8-2.07 0-2.86zM5.41 20L4 18.59l7.72-7.72 1.47 1.35L5.41 20z\"/>\n",
              "  </svg>\n",
              "      </button>\n",
              "      \n",
              "  <style>\n",
              "    .colab-df-container {\n",
              "      display:flex;\n",
              "      flex-wrap:wrap;\n",
              "      gap: 12px;\n",
              "    }\n",
              "\n",
              "    .colab-df-convert {\n",
              "      background-color: #E8F0FE;\n",
              "      border: none;\n",
              "      border-radius: 50%;\n",
              "      cursor: pointer;\n",
              "      display: none;\n",
              "      fill: #1967D2;\n",
              "      height: 32px;\n",
              "      padding: 0 0 0 0;\n",
              "      width: 32px;\n",
              "    }\n",
              "\n",
              "    .colab-df-convert:hover {\n",
              "      background-color: #E2EBFA;\n",
              "      box-shadow: 0px 1px 2px rgba(60, 64, 67, 0.3), 0px 1px 3px 1px rgba(60, 64, 67, 0.15);\n",
              "      fill: #174EA6;\n",
              "    }\n",
              "\n",
              "    [theme=dark] .colab-df-convert {\n",
              "      background-color: #3B4455;\n",
              "      fill: #D2E3FC;\n",
              "    }\n",
              "\n",
              "    [theme=dark] .colab-df-convert:hover {\n",
              "      background-color: #434B5C;\n",
              "      box-shadow: 0px 1px 3px 1px rgba(0, 0, 0, 0.15);\n",
              "      filter: drop-shadow(0px 1px 2px rgba(0, 0, 0, 0.3));\n",
              "      fill: #FFFFFF;\n",
              "    }\n",
              "  </style>\n",
              "\n",
              "      <script>\n",
              "        const buttonEl =\n",
              "          document.querySelector('#df-0dba466c-f819-4d6e-9703-991e384742ae button.colab-df-convert');\n",
              "        buttonEl.style.display =\n",
              "          google.colab.kernel.accessAllowed ? 'block' : 'none';\n",
              "\n",
              "        async function convertToInteractive(key) {\n",
              "          const element = document.querySelector('#df-0dba466c-f819-4d6e-9703-991e384742ae');\n",
              "          const dataTable =\n",
              "            await google.colab.kernel.invokeFunction('convertToInteractive',\n",
              "                                                     [key], {});\n",
              "          if (!dataTable) return;\n",
              "\n",
              "          const docLinkHtml = 'Like what you see? Visit the ' +\n",
              "            '<a target=\"_blank\" href=https://colab.research.google.com/notebooks/data_table.ipynb>data table notebook</a>'\n",
              "            + ' to learn more about interactive tables.';\n",
              "          element.innerHTML = '';\n",
              "          dataTable['output_type'] = 'display_data';\n",
              "          await google.colab.output.renderOutput(dataTable, element);\n",
              "          const docLink = document.createElement('div');\n",
              "          docLink.innerHTML = docLinkHtml;\n",
              "          element.appendChild(docLink);\n",
              "        }\n",
              "      </script>\n",
              "    </div>\n",
              "  </div>\n",
              "  "
            ],
            "text/plain": [
              "   RowNumber  CustomerId   Surname  ...  IsActiveMember  EstimatedSalary  Exited\n",
              "0          1    15634602  Hargrave  ...               1        101348.88       1\n",
              "1          2    15647311      Hill  ...               1        112542.58       0\n",
              "2          3    15619304      Onio  ...               0        113931.57       1\n",
              "3          4    15701354      Boni  ...               0         93826.63       0\n",
              "4          5    15737888  Mitchell  ...               1         79084.10       0\n",
              "\n",
              "[5 rows x 14 columns]"
            ]
          },
          "metadata": {},
          "execution_count": 8
        }
      ]
    },
    {
      "cell_type": "code",
      "source": [
        "x=df.iloc[:,3:13]\n",
        "y=df.iloc[:,13]"
      ],
      "metadata": {
        "id": "Mbd31BX6rnxL"
      },
      "execution_count": null,
      "outputs": []
    },
    {
      "cell_type": "code",
      "source": [
        "from keras import Sequential\n",
        "from keras.layers import Dense, Dropout\n",
        "from keras.losses import BinaryCrossentropy\n",
        "from keras.activations import sigmoid, relu\n",
        "from keras.optimizers import adam_v2\n",
        "from keras.metrics import BinaryAccuracy,Accuracy"
      ],
      "metadata": {
        "id": "RgSzYLGZqz5F"
      },
      "execution_count": null,
      "outputs": []
    },
    {
      "cell_type": "code",
      "source": [
        "from sklearn.model_selection import train_test_split\n",
        "x_train,x_test,y_train,y_test=train_test_split(x,y, test_size=0.2, random_state=0)"
      ],
      "metadata": {
        "id": "MC8Hy091tg-i"
      },
      "execution_count": null,
      "outputs": []
    },
    {
      "cell_type": "code",
      "source": [
        "# x_test"
      ],
      "metadata": {
        "id": "5otxUch-v2dX"
      },
      "execution_count": null,
      "outputs": []
    },
    {
      "cell_type": "code",
      "source": [
        "from sklearn.preprocessing import StandardScaler\n",
        "sc=StandardScaler()\n",
        "x_train=sc.fit_transform(x_train)\n",
        "x_test=sc.fit_transform(x_test)"
      ],
      "metadata": {
        "id": "zLXLfdPLuCLr"
      },
      "execution_count": null,
      "outputs": []
    },
    {
      "cell_type": "code",
      "source": [
        "def nn():\n",
        "  model=Sequential()\n",
        "  model.add(Dense(kernel_initializer='he_uniform',input_dim=10,units=6,activation='relu'))\n",
        "# model2.add(Dropout(0.4))\n",
        "  model.add(Dense(kernel_initializer='he_uniform',input_dim=6,units=12,activation='relu'))\n",
        "  model.add(Dense(kernel_initializer='he_uniform',input_dim=12,units=6,activation='relu'))\n",
        "  model.add(Dense(kernel_initializer='he_uniform',input_dim=6,units=1,activation='sigmoid'))\n",
        "  model.compile(optimizer='adam', loss='BinaryCrossentropy', metrics='Accuracy')\n",
        "  model_history=model.fit(x_train,y_train,batch_size=10,epochs=100,validation_split=0.25)"
      ],
      "metadata": {
        "colab": {
          "base_uri": "https://localhost:8080/"
        },
        "id": "Yow3jP9Xq-4b",
        "outputId": "10174802-fbd3-408c-d59b-e3eca3f857e8"
      },
      "execution_count": null,
      "outputs": [
        {
          "output_type": "stream",
          "name": "stdout",
          "text": [
            "Epoch 1/100\n",
            "600/600 [==============================] - 9s 9ms/step - loss: 0.5101 - Accuracy: 0.7918 - val_loss: 0.4754 - val_Accuracy: 0.7995\n",
            "Epoch 2/100\n",
            "600/600 [==============================] - 5s 8ms/step - loss: 0.4627 - Accuracy: 0.7948 - val_loss: 0.4576 - val_Accuracy: 0.7995\n",
            "Epoch 3/100\n",
            "600/600 [==============================] - 4s 6ms/step - loss: 0.4480 - Accuracy: 0.7948 - val_loss: 0.4486 - val_Accuracy: 0.7995\n",
            "Epoch 4/100\n",
            "600/600 [==============================] - 2s 4ms/step - loss: 0.4400 - Accuracy: 0.7963 - val_loss: 0.4428 - val_Accuracy: 0.8010\n",
            "Epoch 5/100\n",
            "600/600 [==============================] - 2s 4ms/step - loss: 0.4351 - Accuracy: 0.8020 - val_loss: 0.4409 - val_Accuracy: 0.8000\n",
            "Epoch 6/100\n",
            "600/600 [==============================] - 2s 4ms/step - loss: 0.4311 - Accuracy: 0.8083 - val_loss: 0.4382 - val_Accuracy: 0.8010\n",
            "Epoch 7/100\n",
            "600/600 [==============================] - 2s 4ms/step - loss: 0.4272 - Accuracy: 0.8143 - val_loss: 0.4336 - val_Accuracy: 0.8150\n",
            "Epoch 8/100\n",
            "600/600 [==============================] - 2s 4ms/step - loss: 0.4225 - Accuracy: 0.8203 - val_loss: 0.4317 - val_Accuracy: 0.8150\n",
            "Epoch 9/100\n",
            "600/600 [==============================] - 2s 4ms/step - loss: 0.4180 - Accuracy: 0.8242 - val_loss: 0.4274 - val_Accuracy: 0.8180\n",
            "Epoch 10/100\n",
            "600/600 [==============================] - 2s 4ms/step - loss: 0.4135 - Accuracy: 0.8258 - val_loss: 0.4256 - val_Accuracy: 0.8145\n",
            "Epoch 11/100\n",
            "600/600 [==============================] - 2s 4ms/step - loss: 0.4103 - Accuracy: 0.8278 - val_loss: 0.4240 - val_Accuracy: 0.8195\n",
            "Epoch 12/100\n",
            "600/600 [==============================] - 2s 4ms/step - loss: 0.4076 - Accuracy: 0.8313 - val_loss: 0.4205 - val_Accuracy: 0.8160\n",
            "Epoch 13/100\n",
            "600/600 [==============================] - 2s 4ms/step - loss: 0.4049 - Accuracy: 0.8328 - val_loss: 0.4182 - val_Accuracy: 0.8225\n",
            "Epoch 14/100\n",
            "600/600 [==============================] - 2s 4ms/step - loss: 0.4028 - Accuracy: 0.8332 - val_loss: 0.4175 - val_Accuracy: 0.8200\n",
            "Epoch 15/100\n",
            "600/600 [==============================] - 2s 4ms/step - loss: 0.4008 - Accuracy: 0.8347 - val_loss: 0.4140 - val_Accuracy: 0.8275\n",
            "Epoch 16/100\n",
            "600/600 [==============================] - 2s 4ms/step - loss: 0.3990 - Accuracy: 0.8340 - val_loss: 0.4150 - val_Accuracy: 0.8240\n",
            "Epoch 17/100\n",
            "600/600 [==============================] - 2s 4ms/step - loss: 0.3973 - Accuracy: 0.8352 - val_loss: 0.4130 - val_Accuracy: 0.8265\n",
            "Epoch 18/100\n",
            "600/600 [==============================] - 2s 4ms/step - loss: 0.3957 - Accuracy: 0.8342 - val_loss: 0.4123 - val_Accuracy: 0.8295\n",
            "Epoch 19/100\n",
            "600/600 [==============================] - 2s 4ms/step - loss: 0.3948 - Accuracy: 0.8355 - val_loss: 0.4121 - val_Accuracy: 0.8275\n",
            "Epoch 20/100\n",
            "600/600 [==============================] - 2s 4ms/step - loss: 0.3929 - Accuracy: 0.8343 - val_loss: 0.4092 - val_Accuracy: 0.8280\n",
            "Epoch 21/100\n",
            "600/600 [==============================] - 2s 4ms/step - loss: 0.3914 - Accuracy: 0.8365 - val_loss: 0.4103 - val_Accuracy: 0.8280\n",
            "Epoch 22/100\n",
            "600/600 [==============================] - 2s 4ms/step - loss: 0.3902 - Accuracy: 0.8365 - val_loss: 0.4072 - val_Accuracy: 0.8300\n",
            "Epoch 23/100\n",
            "600/600 [==============================] - 2s 4ms/step - loss: 0.3879 - Accuracy: 0.8365 - val_loss: 0.4078 - val_Accuracy: 0.8270\n",
            "Epoch 24/100\n",
            "600/600 [==============================] - 2s 4ms/step - loss: 0.3863 - Accuracy: 0.8392 - val_loss: 0.4095 - val_Accuracy: 0.8305\n",
            "Epoch 25/100\n",
            "600/600 [==============================] - 2s 4ms/step - loss: 0.3853 - Accuracy: 0.8352 - val_loss: 0.4083 - val_Accuracy: 0.8270\n",
            "Epoch 26/100\n",
            "600/600 [==============================] - 2s 4ms/step - loss: 0.3832 - Accuracy: 0.8363 - val_loss: 0.4085 - val_Accuracy: 0.8255\n",
            "Epoch 27/100\n",
            "600/600 [==============================] - 2s 4ms/step - loss: 0.3819 - Accuracy: 0.8368 - val_loss: 0.4075 - val_Accuracy: 0.8265\n",
            "Epoch 28/100\n",
            "600/600 [==============================] - 2s 4ms/step - loss: 0.3797 - Accuracy: 0.8390 - val_loss: 0.4114 - val_Accuracy: 0.8250\n",
            "Epoch 29/100\n",
            "600/600 [==============================] - 2s 4ms/step - loss: 0.3780 - Accuracy: 0.8423 - val_loss: 0.4050 - val_Accuracy: 0.8295\n",
            "Epoch 30/100\n",
            "600/600 [==============================] - 2s 4ms/step - loss: 0.3746 - Accuracy: 0.8415 - val_loss: 0.4013 - val_Accuracy: 0.8345\n",
            "Epoch 31/100\n",
            "600/600 [==============================] - 2s 4ms/step - loss: 0.3727 - Accuracy: 0.8443 - val_loss: 0.3993 - val_Accuracy: 0.8375\n",
            "Epoch 32/100\n",
            "600/600 [==============================] - 2s 4ms/step - loss: 0.3703 - Accuracy: 0.8453 - val_loss: 0.3973 - val_Accuracy: 0.8350\n",
            "Epoch 33/100\n",
            "600/600 [==============================] - 2s 4ms/step - loss: 0.3679 - Accuracy: 0.8453 - val_loss: 0.3947 - val_Accuracy: 0.8355\n",
            "Epoch 34/100\n",
            "600/600 [==============================] - 2s 4ms/step - loss: 0.3656 - Accuracy: 0.8482 - val_loss: 0.3900 - val_Accuracy: 0.8390\n",
            "Epoch 35/100\n",
            "600/600 [==============================] - 2s 4ms/step - loss: 0.3625 - Accuracy: 0.8495 - val_loss: 0.3919 - val_Accuracy: 0.8405\n",
            "Epoch 36/100\n",
            "600/600 [==============================] - 2s 4ms/step - loss: 0.3596 - Accuracy: 0.8525 - val_loss: 0.3860 - val_Accuracy: 0.8450\n",
            "Epoch 37/100\n",
            "600/600 [==============================] - 2s 4ms/step - loss: 0.3565 - Accuracy: 0.8535 - val_loss: 0.3806 - val_Accuracy: 0.8445\n",
            "Epoch 38/100\n",
            "600/600 [==============================] - 3s 5ms/step - loss: 0.3523 - Accuracy: 0.8535 - val_loss: 0.3843 - val_Accuracy: 0.8455\n",
            "Epoch 39/100\n",
            "600/600 [==============================] - 3s 6ms/step - loss: 0.3492 - Accuracy: 0.8567 - val_loss: 0.3727 - val_Accuracy: 0.8505\n",
            "Epoch 40/100\n",
            "600/600 [==============================] - 2s 4ms/step - loss: 0.3455 - Accuracy: 0.8593 - val_loss: 0.3735 - val_Accuracy: 0.8500\n",
            "Epoch 41/100\n",
            "600/600 [==============================] - 2s 4ms/step - loss: 0.3452 - Accuracy: 0.8587 - val_loss: 0.3655 - val_Accuracy: 0.8545\n",
            "Epoch 42/100\n",
            "600/600 [==============================] - 3s 4ms/step - loss: 0.3441 - Accuracy: 0.8587 - val_loss: 0.3626 - val_Accuracy: 0.8540\n",
            "Epoch 43/100\n",
            "600/600 [==============================] - 2s 4ms/step - loss: 0.3421 - Accuracy: 0.8600 - val_loss: 0.3654 - val_Accuracy: 0.8480\n",
            "Epoch 44/100\n",
            "600/600 [==============================] - 3s 4ms/step - loss: 0.3419 - Accuracy: 0.8585 - val_loss: 0.3649 - val_Accuracy: 0.8525\n",
            "Epoch 45/100\n",
            "600/600 [==============================] - 2s 4ms/step - loss: 0.3417 - Accuracy: 0.8608 - val_loss: 0.3633 - val_Accuracy: 0.8560\n",
            "Epoch 46/100\n",
            "600/600 [==============================] - 2s 4ms/step - loss: 0.3399 - Accuracy: 0.8592 - val_loss: 0.3624 - val_Accuracy: 0.8485\n",
            "Epoch 47/100\n",
            "600/600 [==============================] - 2s 4ms/step - loss: 0.3406 - Accuracy: 0.8582 - val_loss: 0.3605 - val_Accuracy: 0.8540\n",
            "Epoch 48/100\n",
            "600/600 [==============================] - 2s 4ms/step - loss: 0.3393 - Accuracy: 0.8588 - val_loss: 0.3591 - val_Accuracy: 0.8540\n",
            "Epoch 49/100\n",
            "600/600 [==============================] - 5s 8ms/step - loss: 0.3390 - Accuracy: 0.8587 - val_loss: 0.3583 - val_Accuracy: 0.8570\n",
            "Epoch 50/100\n",
            "600/600 [==============================] - 4s 6ms/step - loss: 0.3382 - Accuracy: 0.8593 - val_loss: 0.3599 - val_Accuracy: 0.8560\n",
            "Epoch 51/100\n",
            "600/600 [==============================] - 2s 4ms/step - loss: 0.3381 - Accuracy: 0.8613 - val_loss: 0.3586 - val_Accuracy: 0.8565\n",
            "Epoch 52/100\n",
            "600/600 [==============================] - 2s 4ms/step - loss: 0.3374 - Accuracy: 0.8600 - val_loss: 0.3573 - val_Accuracy: 0.8595\n",
            "Epoch 53/100\n",
            "600/600 [==============================] - 2s 4ms/step - loss: 0.3364 - Accuracy: 0.8603 - val_loss: 0.3580 - val_Accuracy: 0.8560\n",
            "Epoch 54/100\n",
            "600/600 [==============================] - 2s 4ms/step - loss: 0.3368 - Accuracy: 0.8603 - val_loss: 0.3563 - val_Accuracy: 0.8570\n",
            "Epoch 55/100\n",
            "600/600 [==============================] - 5s 8ms/step - loss: 0.3359 - Accuracy: 0.8612 - val_loss: 0.3616 - val_Accuracy: 0.8515\n",
            "Epoch 56/100\n",
            "600/600 [==============================] - 2s 4ms/step - loss: 0.3359 - Accuracy: 0.8615 - val_loss: 0.3577 - val_Accuracy: 0.8575\n",
            "Epoch 57/100\n",
            "600/600 [==============================] - 2s 4ms/step - loss: 0.3358 - Accuracy: 0.8588 - val_loss: 0.3560 - val_Accuracy: 0.8530\n",
            "Epoch 58/100\n",
            "600/600 [==============================] - 4s 7ms/step - loss: 0.3350 - Accuracy: 0.8590 - val_loss: 0.3565 - val_Accuracy: 0.8540\n",
            "Epoch 59/100\n",
            "600/600 [==============================] - 4s 7ms/step - loss: 0.3353 - Accuracy: 0.8610 - val_loss: 0.3555 - val_Accuracy: 0.8595\n",
            "Epoch 60/100\n",
            "600/600 [==============================] - 3s 5ms/step - loss: 0.3349 - Accuracy: 0.8608 - val_loss: 0.3540 - val_Accuracy: 0.8590\n",
            "Epoch 61/100\n",
            "600/600 [==============================] - 2s 4ms/step - loss: 0.3348 - Accuracy: 0.8612 - val_loss: 0.3540 - val_Accuracy: 0.8580\n",
            "Epoch 62/100\n",
            "600/600 [==============================] - 2s 4ms/step - loss: 0.3347 - Accuracy: 0.8593 - val_loss: 0.3563 - val_Accuracy: 0.8550\n",
            "Epoch 63/100\n",
            "600/600 [==============================] - 3s 4ms/step - loss: 0.3344 - Accuracy: 0.8600 - val_loss: 0.3556 - val_Accuracy: 0.8650\n",
            "Epoch 64/100\n",
            "600/600 [==============================] - 4s 7ms/step - loss: 0.3340 - Accuracy: 0.8588 - val_loss: 0.3551 - val_Accuracy: 0.8570\n",
            "Epoch 65/100\n",
            "600/600 [==============================] - 2s 4ms/step - loss: 0.3349 - Accuracy: 0.8597 - val_loss: 0.3540 - val_Accuracy: 0.8595\n",
            "Epoch 66/100\n",
            "600/600 [==============================] - 2s 4ms/step - loss: 0.3334 - Accuracy: 0.8608 - val_loss: 0.3576 - val_Accuracy: 0.8475\n",
            "Epoch 67/100\n",
            "600/600 [==============================] - 2s 4ms/step - loss: 0.3325 - Accuracy: 0.8600 - val_loss: 0.3643 - val_Accuracy: 0.8625\n",
            "Epoch 68/100\n",
            "600/600 [==============================] - 2s 4ms/step - loss: 0.3331 - Accuracy: 0.8612 - val_loss: 0.3546 - val_Accuracy: 0.8600\n",
            "Epoch 69/100\n",
            "600/600 [==============================] - 2s 4ms/step - loss: 0.3333 - Accuracy: 0.8632 - val_loss: 0.3551 - val_Accuracy: 0.8585\n",
            "Epoch 70/100\n",
            "600/600 [==============================] - 3s 4ms/step - loss: 0.3324 - Accuracy: 0.8627 - val_loss: 0.3529 - val_Accuracy: 0.8600\n",
            "Epoch 71/100\n",
            "600/600 [==============================] - 2s 4ms/step - loss: 0.3323 - Accuracy: 0.8615 - val_loss: 0.3538 - val_Accuracy: 0.8565\n",
            "Epoch 72/100\n",
            "600/600 [==============================] - 2s 4ms/step - loss: 0.3320 - Accuracy: 0.8648 - val_loss: 0.3555 - val_Accuracy: 0.8600\n",
            "Epoch 73/100\n",
            "600/600 [==============================] - 2s 4ms/step - loss: 0.3321 - Accuracy: 0.8628 - val_loss: 0.3540 - val_Accuracy: 0.8605\n",
            "Epoch 74/100\n",
            "600/600 [==============================] - 3s 4ms/step - loss: 0.3321 - Accuracy: 0.8627 - val_loss: 0.3578 - val_Accuracy: 0.8615\n",
            "Epoch 75/100\n",
            "600/600 [==============================] - 2s 4ms/step - loss: 0.3319 - Accuracy: 0.8625 - val_loss: 0.3531 - val_Accuracy: 0.8585\n",
            "Epoch 76/100\n",
            "600/600 [==============================] - 2s 4ms/step - loss: 0.3315 - Accuracy: 0.8610 - val_loss: 0.3529 - val_Accuracy: 0.8570\n",
            "Epoch 77/100\n",
            "600/600 [==============================] - 2s 4ms/step - loss: 0.3323 - Accuracy: 0.8637 - val_loss: 0.3537 - val_Accuracy: 0.8605\n",
            "Epoch 78/100\n",
            "600/600 [==============================] - 2s 4ms/step - loss: 0.3316 - Accuracy: 0.8633 - val_loss: 0.3571 - val_Accuracy: 0.8545\n",
            "Epoch 79/100\n",
            "600/600 [==============================] - 2s 4ms/step - loss: 0.3315 - Accuracy: 0.8615 - val_loss: 0.3538 - val_Accuracy: 0.8570\n",
            "Epoch 80/100\n",
            "600/600 [==============================] - 2s 4ms/step - loss: 0.3310 - Accuracy: 0.8620 - val_loss: 0.3548 - val_Accuracy: 0.8575\n",
            "Epoch 81/100\n",
            "600/600 [==============================] - 2s 4ms/step - loss: 0.3311 - Accuracy: 0.8627 - val_loss: 0.3550 - val_Accuracy: 0.8550\n",
            "Epoch 82/100\n",
            "600/600 [==============================] - 2s 4ms/step - loss: 0.3308 - Accuracy: 0.8622 - val_loss: 0.3579 - val_Accuracy: 0.8595\n",
            "Epoch 83/100\n",
            "600/600 [==============================] - 3s 4ms/step - loss: 0.3308 - Accuracy: 0.8617 - val_loss: 0.3539 - val_Accuracy: 0.8555\n",
            "Epoch 84/100\n",
            "600/600 [==============================] - 3s 4ms/step - loss: 0.3305 - Accuracy: 0.8633 - val_loss: 0.3539 - val_Accuracy: 0.8575\n",
            "Epoch 85/100\n",
            "600/600 [==============================] - 2s 4ms/step - loss: 0.3305 - Accuracy: 0.8637 - val_loss: 0.3536 - val_Accuracy: 0.8595\n",
            "Epoch 86/100\n",
            "600/600 [==============================] - 2s 4ms/step - loss: 0.3308 - Accuracy: 0.8630 - val_loss: 0.3544 - val_Accuracy: 0.8570\n",
            "Epoch 87/100\n",
            "600/600 [==============================] - 2s 4ms/step - loss: 0.3304 - Accuracy: 0.8620 - val_loss: 0.3561 - val_Accuracy: 0.8585\n",
            "Epoch 88/100\n",
            "600/600 [==============================] - 2s 4ms/step - loss: 0.3304 - Accuracy: 0.8643 - val_loss: 0.3558 - val_Accuracy: 0.8615\n",
            "Epoch 89/100\n",
            "600/600 [==============================] - 2s 4ms/step - loss: 0.3304 - Accuracy: 0.8613 - val_loss: 0.3540 - val_Accuracy: 0.8585\n",
            "Epoch 90/100\n",
            "600/600 [==============================] - 2s 4ms/step - loss: 0.3305 - Accuracy: 0.8613 - val_loss: 0.3549 - val_Accuracy: 0.8570\n",
            "Epoch 91/100\n",
            "600/600 [==============================] - 2s 4ms/step - loss: 0.3304 - Accuracy: 0.8630 - val_loss: 0.3539 - val_Accuracy: 0.8575\n",
            "Epoch 92/100\n",
            "600/600 [==============================] - 2s 4ms/step - loss: 0.3302 - Accuracy: 0.8610 - val_loss: 0.3546 - val_Accuracy: 0.8580\n",
            "Epoch 93/100\n",
            "600/600 [==============================] - 2s 4ms/step - loss: 0.3303 - Accuracy: 0.8625 - val_loss: 0.3552 - val_Accuracy: 0.8550\n",
            "Epoch 94/100\n",
            "600/600 [==============================] - 3s 4ms/step - loss: 0.3298 - Accuracy: 0.8628 - val_loss: 0.3567 - val_Accuracy: 0.8560\n",
            "Epoch 95/100\n",
            "600/600 [==============================] - 4s 6ms/step - loss: 0.3304 - Accuracy: 0.8627 - val_loss: 0.3558 - val_Accuracy: 0.8540\n",
            "Epoch 96/100\n",
            "600/600 [==============================] - 4s 7ms/step - loss: 0.3301 - Accuracy: 0.8617 - val_loss: 0.3563 - val_Accuracy: 0.8575\n",
            "Epoch 97/100\n",
            "600/600 [==============================] - 3s 4ms/step - loss: 0.3296 - Accuracy: 0.8602 - val_loss: 0.3586 - val_Accuracy: 0.8615\n",
            "Epoch 98/100\n",
            "600/600 [==============================] - 3s 4ms/step - loss: 0.3299 - Accuracy: 0.8647 - val_loss: 0.3564 - val_Accuracy: 0.8605\n",
            "Epoch 99/100\n",
            "600/600 [==============================] - 2s 4ms/step - loss: 0.3287 - Accuracy: 0.8655 - val_loss: 0.3589 - val_Accuracy: 0.8500\n",
            "Epoch 100/100\n",
            "600/600 [==============================] - 2s 4ms/step - loss: 0.3293 - Accuracy: 0.8605 - val_loss: 0.3558 - val_Accuracy: 0.8565\n"
          ]
        }
      ]
    },
    {
      "cell_type": "code",
      "source": [
        "print(model_history.history.keys)\n",
        "plt.plot(model_history.history['Accuracy'])\n",
        "plt.plot(model_history.history['val_Accuracy'])\n",
        "plt.title('Neural Network Model Accuracy')\n",
        "plt.xlabel('Epoch')\n",
        "plt.ylabel('Accuracy')\n",
        "plt.legend(['train','test'],loc='lower right')\n",
        "plt.show"
      ],
      "metadata": {
        "colab": {
          "base_uri": "https://localhost:8080/",
          "height": 330
        },
        "id": "87vkpfcTw0z4",
        "outputId": "e3f03b6b-ad77-4ab1-eb2f-c44a85c59aac"
      },
      "execution_count": null,
      "outputs": [
        {
          "output_type": "stream",
          "name": "stdout",
          "text": [
            "<built-in method keys of dict object at 0x7faba05d8870>\n"
          ]
        },
        {
          "output_type": "execute_result",
          "data": {
            "text/plain": [
              "<function matplotlib.pyplot.show>"
            ]
          },
          "metadata": {},
          "execution_count": 15
        },
        {
          "output_type": "display_data",
          "data": {
            "image/png": "[encoded data removed]",
            "text/plain": [
              "<Figure size 432x288 with 1 Axes>"
            ]
          },
          "metadata": {
            "needs_background": "light"
          }
        }
      ]
    },
    {
      "cell_type": "code",
      "source": [
        "y_pred=model.predict(x_test)\n",
        "y_pred=(y_pred>0.5)"
      ],
      "metadata": {
        "id": "_F4xYHDaz8AP"
      },
      "execution_count": null,
      "outputs": []
    },
    {
      "cell_type": "code",
      "source": [
        "from sklearn.metrics import accuracy_score\n",
        "score=accuracy_score(y_pred,y_test)\n",
        "print(score)"
      ],
      "metadata": {
        "colab": {
          "base_uri": "https://localhost:8080/"
        },
        "id": "N5XJynuF0-5X",
        "outputId": "956ce6ab-6499-4e15-c7e9-fad7e63c9763"
      },
      "execution_count": null,
      "outputs": [
        {
          "output_type": "stream",
          "name": "stdout",
          "text": [
            "0.8625\n"
          ]
        }
      ]
    },
    {
      "cell_type": "code",
      "source": [
        "model=Sequential()\n",
        "model.add(Dense(kernel_initializer='he_normal',input_dim=10,units=6,activation='relu'))\n",
        "model.add(Dropout(0.3))\n",
        "model.add(Dense(kernel_initializer='he_normal',input_dim=6,units=12,activation='relu'))\n",
        "model.add(Dropout(0.3))\n",
        "model.add(Dense(kernel_initializer='he_normal',input_dim=12,units=6,activation='relu'))\n",
        "model.add(Dropout(0.3))\n",
        "model.add(Dense(kernel_initializer='glorot_uniform',input_dim=6,units=1,activation='sigmoid'))\n",
        "model.compile(optimizer='adam', loss='BinaryCrossentropy', metrics='Accuracy')\n",
        "model_history=model.fit(x_train,y_train,batch_size=10,epochs=100,validation_split=0.25)"
      ],
      "metadata": {
        "colab": {
          "base_uri": "https://localhost:8080/"
        },
        "id": "TFvmqOWT3kb1",
        "outputId": "a2329040-4a99-4d72-de90-9065eda0cfac"
      },
      "execution_count": null,
      "outputs": [
        {
          "output_type": "stream",
          "name": "stdout",
          "text": [
            "Epoch 1/100\n",
            "600/600 [==============================] - 3s 4ms/step - loss: 0.5602 - Accuracy: 0.7767 - val_loss: 0.5015 - val_Accuracy: 0.7995\n",
            "Epoch 2/100\n",
            "600/600 [==============================] - 3s 4ms/step - loss: 0.5172 - Accuracy: 0.7933 - val_loss: 0.4796 - val_Accuracy: 0.7995\n",
            "Epoch 3/100\n",
            "600/600 [==============================] - 3s 4ms/step - loss: 0.5040 - Accuracy: 0.7947 - val_loss: 0.4719 - val_Accuracy: 0.7995\n",
            "Epoch 4/100\n",
            "600/600 [==============================] - 3s 4ms/step - loss: 0.4924 - Accuracy: 0.7948 - val_loss: 0.4664 - val_Accuracy: 0.7995\n",
            "Epoch 5/100\n",
            "600/600 [==============================] - 2s 4ms/step - loss: 0.4823 - Accuracy: 0.7948 - val_loss: 0.4580 - val_Accuracy: 0.7995\n",
            "Epoch 6/100\n",
            "600/600 [==============================] - 3s 4ms/step - loss: 0.4820 - Accuracy: 0.7948 - val_loss: 0.4574 - val_Accuracy: 0.7995\n",
            "Epoch 7/100\n",
            "600/600 [==============================] - 2s 4ms/step - loss: 0.4745 - Accuracy: 0.7948 - val_loss: 0.4514 - val_Accuracy: 0.7995\n",
            "Epoch 8/100\n",
            "600/600 [==============================] - 3s 4ms/step - loss: 0.4740 - Accuracy: 0.7948 - val_loss: 0.4506 - val_Accuracy: 0.7995\n",
            "Epoch 9/100\n",
            "600/600 [==============================] - 2s 4ms/step - loss: 0.4725 - Accuracy: 0.7948 - val_loss: 0.4501 - val_Accuracy: 0.7995\n",
            "Epoch 10/100\n",
            "600/600 [==============================] - 3s 4ms/step - loss: 0.4659 - Accuracy: 0.7948 - val_loss: 0.4456 - val_Accuracy: 0.7995\n",
            "Epoch 11/100\n",
            "600/600 [==============================] - 3s 4ms/step - loss: 0.4662 - Accuracy: 0.7948 - val_loss: 0.4478 - val_Accuracy: 0.7995\n",
            "Epoch 12/100\n",
            "600/600 [==============================] - 2s 4ms/step - loss: 0.4681 - Accuracy: 0.7953 - val_loss: 0.4437 - val_Accuracy: 0.7995\n",
            "Epoch 13/100\n",
            "600/600 [==============================] - 2s 4ms/step - loss: 0.4650 - Accuracy: 0.7970 - val_loss: 0.4432 - val_Accuracy: 0.7995\n",
            "Epoch 14/100\n",
            "600/600 [==============================] - 2s 4ms/step - loss: 0.4608 - Accuracy: 0.7960 - val_loss: 0.4370 - val_Accuracy: 0.7995\n",
            "Epoch 15/100\n",
            "600/600 [==============================] - 3s 4ms/step - loss: 0.4604 - Accuracy: 0.7955 - val_loss: 0.4364 - val_Accuracy: 0.7995\n",
            "Epoch 16/100\n",
            "600/600 [==============================] - 3s 4ms/step - loss: 0.4527 - Accuracy: 0.8028 - val_loss: 0.4313 - val_Accuracy: 0.7995\n",
            "Epoch 17/100\n",
            "600/600 [==============================] - 3s 4ms/step - loss: 0.4507 - Accuracy: 0.8022 - val_loss: 0.4276 - val_Accuracy: 0.7995\n",
            "Epoch 18/100\n",
            "600/600 [==============================] - 3s 4ms/step - loss: 0.4507 - Accuracy: 0.8022 - val_loss: 0.4271 - val_Accuracy: 0.7995\n",
            "Epoch 19/100\n",
            "600/600 [==============================] - 2s 4ms/step - loss: 0.4527 - Accuracy: 0.7985 - val_loss: 0.4263 - val_Accuracy: 0.7995\n",
            "Epoch 20/100\n",
            "600/600 [==============================] - 3s 4ms/step - loss: 0.4483 - Accuracy: 0.8005 - val_loss: 0.4244 - val_Accuracy: 0.8005\n",
            "Epoch 21/100\n",
            "600/600 [==============================] - 3s 4ms/step - loss: 0.4461 - Accuracy: 0.8032 - val_loss: 0.4232 - val_Accuracy: 0.7995\n",
            "Epoch 22/100\n",
            "600/600 [==============================] - 2s 4ms/step - loss: 0.4405 - Accuracy: 0.8022 - val_loss: 0.4165 - val_Accuracy: 0.8010\n",
            "Epoch 23/100\n",
            "600/600 [==============================] - 3s 4ms/step - loss: 0.4422 - Accuracy: 0.8062 - val_loss: 0.4169 - val_Accuracy: 0.8075\n",
            "Epoch 24/100\n",
            "600/600 [==============================] - 3s 4ms/step - loss: 0.4388 - Accuracy: 0.8045 - val_loss: 0.4125 - val_Accuracy: 0.8030\n",
            "Epoch 25/100\n",
            "600/600 [==============================] - 3s 5ms/step - loss: 0.4315 - Accuracy: 0.8060 - val_loss: 0.4063 - val_Accuracy: 0.8040\n",
            "Epoch 26/100\n",
            "600/600 [==============================] - 2s 4ms/step - loss: 0.4385 - Accuracy: 0.8042 - val_loss: 0.4073 - val_Accuracy: 0.8040\n",
            "Epoch 27/100\n",
            "600/600 [==============================] - 3s 4ms/step - loss: 0.4292 - Accuracy: 0.8067 - val_loss: 0.4015 - val_Accuracy: 0.8040\n",
            "Epoch 28/100\n",
            "600/600 [==============================] - 2s 4ms/step - loss: 0.4297 - Accuracy: 0.8052 - val_loss: 0.4003 - val_Accuracy: 0.8030\n",
            "Epoch 29/100\n",
            "600/600 [==============================] - 2s 4ms/step - loss: 0.4377 - Accuracy: 0.8063 - val_loss: 0.4017 - val_Accuracy: 0.8025\n",
            "Epoch 30/100\n",
            "600/600 [==============================] - 2s 4ms/step - loss: 0.4323 - Accuracy: 0.8068 - val_loss: 0.4001 - val_Accuracy: 0.8095\n",
            "Epoch 31/100\n",
            "600/600 [==============================] - 2s 4ms/step - loss: 0.4304 - Accuracy: 0.8057 - val_loss: 0.3973 - val_Accuracy: 0.8075\n",
            "Epoch 32/100\n",
            "600/600 [==============================] - 3s 4ms/step - loss: 0.4322 - Accuracy: 0.8055 - val_loss: 0.3957 - val_Accuracy: 0.8015\n",
            "Epoch 33/100\n",
            "600/600 [==============================] - 3s 4ms/step - loss: 0.4313 - Accuracy: 0.8093 - val_loss: 0.3996 - val_Accuracy: 0.8050\n",
            "Epoch 34/100\n",
            "600/600 [==============================] - 2s 4ms/step - loss: 0.4341 - Accuracy: 0.8085 - val_loss: 0.3994 - val_Accuracy: 0.8035\n",
            "Epoch 35/100\n",
            "600/600 [==============================] - 2s 4ms/step - loss: 0.4245 - Accuracy: 0.8137 - val_loss: 0.4000 - val_Accuracy: 0.8075\n",
            "Epoch 36/100\n",
            "600/600 [==============================] - 3s 4ms/step - loss: 0.4308 - Accuracy: 0.8147 - val_loss: 0.3968 - val_Accuracy: 0.8045\n",
            "Epoch 37/100\n",
            "600/600 [==============================] - 2s 4ms/step - loss: 0.4305 - Accuracy: 0.8148 - val_loss: 0.3923 - val_Accuracy: 0.8045\n",
            "Epoch 38/100\n",
            "600/600 [==============================] - 3s 4ms/step - loss: 0.4278 - Accuracy: 0.8155 - val_loss: 0.3918 - val_Accuracy: 0.8050\n",
            "Epoch 39/100\n",
            "600/600 [==============================] - 2s 4ms/step - loss: 0.4270 - Accuracy: 0.8177 - val_loss: 0.3919 - val_Accuracy: 0.8090\n",
            "Epoch 40/100\n",
            "600/600 [==============================] - 3s 4ms/step - loss: 0.4295 - Accuracy: 0.8140 - val_loss: 0.3903 - val_Accuracy: 0.8050\n",
            "Epoch 41/100\n",
            "600/600 [==============================] - 2s 4ms/step - loss: 0.4246 - Accuracy: 0.8130 - val_loss: 0.3885 - val_Accuracy: 0.8220\n",
            "Epoch 42/100\n",
            "600/600 [==============================] - 3s 4ms/step - loss: 0.4281 - Accuracy: 0.8135 - val_loss: 0.3890 - val_Accuracy: 0.8445\n",
            "Epoch 43/100\n",
            "600/600 [==============================] - 2s 4ms/step - loss: 0.4295 - Accuracy: 0.8112 - val_loss: 0.3896 - val_Accuracy: 0.8035\n",
            "Epoch 44/100\n",
            "600/600 [==============================] - 2s 4ms/step - loss: 0.4275 - Accuracy: 0.8147 - val_loss: 0.3891 - val_Accuracy: 0.8240\n",
            "Epoch 45/100\n",
            "600/600 [==============================] - 3s 4ms/step - loss: 0.4325 - Accuracy: 0.8138 - val_loss: 0.3888 - val_Accuracy: 0.8485\n",
            "Epoch 46/100\n",
            "600/600 [==============================] - 2s 4ms/step - loss: 0.4224 - Accuracy: 0.8212 - val_loss: 0.3880 - val_Accuracy: 0.8480\n",
            "Epoch 47/100\n",
            "600/600 [==============================] - 2s 4ms/step - loss: 0.4266 - Accuracy: 0.8165 - val_loss: 0.3929 - val_Accuracy: 0.8475\n",
            "Epoch 48/100\n",
            "600/600 [==============================] - 3s 4ms/step - loss: 0.4269 - Accuracy: 0.8080 - val_loss: 0.3913 - val_Accuracy: 0.8470\n",
            "Epoch 49/100\n",
            "600/600 [==============================] - 3s 4ms/step - loss: 0.4265 - Accuracy: 0.8140 - val_loss: 0.3931 - val_Accuracy: 0.8460\n",
            "Epoch 50/100\n",
            "600/600 [==============================] - 2s 4ms/step - loss: 0.4272 - Accuracy: 0.8118 - val_loss: 0.3899 - val_Accuracy: 0.8420\n",
            "Epoch 51/100\n",
            "600/600 [==============================] - 3s 4ms/step - loss: 0.4295 - Accuracy: 0.8133 - val_loss: 0.3910 - val_Accuracy: 0.8035\n",
            "Epoch 52/100\n",
            "600/600 [==============================] - 2s 4ms/step - loss: 0.4299 - Accuracy: 0.8110 - val_loss: 0.3872 - val_Accuracy: 0.8035\n",
            "Epoch 53/100\n",
            "600/600 [==============================] - 3s 4ms/step - loss: 0.4265 - Accuracy: 0.8130 - val_loss: 0.3929 - val_Accuracy: 0.8440\n",
            "Epoch 54/100\n",
            "600/600 [==============================] - 3s 4ms/step - loss: 0.4224 - Accuracy: 0.8180 - val_loss: 0.3889 - val_Accuracy: 0.8470\n",
            "Epoch 55/100\n",
            "600/600 [==============================] - 3s 4ms/step - loss: 0.4296 - Accuracy: 0.8123 - val_loss: 0.3987 - val_Accuracy: 0.8420\n",
            "Epoch 56/100\n",
            "600/600 [==============================] - 2s 4ms/step - loss: 0.4305 - Accuracy: 0.8133 - val_loss: 0.3942 - val_Accuracy: 0.8440\n",
            "Epoch 57/100\n",
            "600/600 [==============================] - 2s 4ms/step - loss: 0.4280 - Accuracy: 0.8172 - val_loss: 0.3925 - val_Accuracy: 0.8425\n",
            "Epoch 58/100\n",
            "600/600 [==============================] - 2s 4ms/step - loss: 0.4325 - Accuracy: 0.8102 - val_loss: 0.3953 - val_Accuracy: 0.8450\n",
            "Epoch 59/100\n",
            "600/600 [==============================] - 3s 4ms/step - loss: 0.4242 - Accuracy: 0.8148 - val_loss: 0.3895 - val_Accuracy: 0.8465\n",
            "Epoch 60/100\n",
            "600/600 [==============================] - 3s 4ms/step - loss: 0.4302 - Accuracy: 0.8105 - val_loss: 0.3890 - val_Accuracy: 0.8450\n",
            "Epoch 61/100\n",
            "600/600 [==============================] - 2s 4ms/step - loss: 0.4227 - Accuracy: 0.8173 - val_loss: 0.3877 - val_Accuracy: 0.8490\n",
            "Epoch 62/100\n",
            "600/600 [==============================] - 3s 4ms/step - loss: 0.4269 - Accuracy: 0.8118 - val_loss: 0.3873 - val_Accuracy: 0.8470\n",
            "Epoch 63/100\n",
            "600/600 [==============================] - 2s 4ms/step - loss: 0.4267 - Accuracy: 0.8113 - val_loss: 0.3870 - val_Accuracy: 0.8430\n",
            "Epoch 64/100\n",
            "600/600 [==============================] - 2s 4ms/step - loss: 0.4244 - Accuracy: 0.8135 - val_loss: 0.3898 - val_Accuracy: 0.8470\n",
            "Epoch 65/100\n",
            "600/600 [==============================] - 3s 4ms/step - loss: 0.4271 - Accuracy: 0.8117 - val_loss: 0.3904 - val_Accuracy: 0.8405\n",
            "Epoch 66/100\n",
            "600/600 [==============================] - 2s 4ms/step - loss: 0.4164 - Accuracy: 0.8162 - val_loss: 0.3840 - val_Accuracy: 0.8415\n",
            "Epoch 67/100\n",
            "600/600 [==============================] - 2s 4ms/step - loss: 0.4240 - Accuracy: 0.8157 - val_loss: 0.3895 - val_Accuracy: 0.8430\n",
            "Epoch 68/100\n",
            "600/600 [==============================] - 3s 4ms/step - loss: 0.4213 - Accuracy: 0.8170 - val_loss: 0.3832 - val_Accuracy: 0.8435\n",
            "Epoch 69/100\n",
            "600/600 [==============================] - 2s 4ms/step - loss: 0.4225 - Accuracy: 0.8165 - val_loss: 0.3840 - val_Accuracy: 0.8490\n",
            "Epoch 70/100\n",
            "600/600 [==============================] - 3s 4ms/step - loss: 0.4258 - Accuracy: 0.8165 - val_loss: 0.3872 - val_Accuracy: 0.8465\n",
            "Epoch 71/100\n",
            "600/600 [==============================] - 2s 4ms/step - loss: 0.4219 - Accuracy: 0.8163 - val_loss: 0.3855 - val_Accuracy: 0.8465\n",
            "Epoch 72/100\n",
            "600/600 [==============================] - 2s 4ms/step - loss: 0.4238 - Accuracy: 0.8125 - val_loss: 0.3876 - val_Accuracy: 0.8425\n",
            "Epoch 73/100\n",
            "600/600 [==============================] - 2s 4ms/step - loss: 0.4259 - Accuracy: 0.8160 - val_loss: 0.3916 - val_Accuracy: 0.8435\n",
            "Epoch 74/100\n",
            "600/600 [==============================] - 3s 4ms/step - loss: 0.4172 - Accuracy: 0.8193 - val_loss: 0.3834 - val_Accuracy: 0.8390\n",
            "Epoch 75/100\n",
            "600/600 [==============================] - 3s 4ms/step - loss: 0.4187 - Accuracy: 0.8145 - val_loss: 0.3826 - val_Accuracy: 0.8470\n",
            "Epoch 76/100\n",
            "600/600 [==============================] - 2s 4ms/step - loss: 0.4259 - Accuracy: 0.8130 - val_loss: 0.3886 - val_Accuracy: 0.8470\n",
            "Epoch 77/100\n",
            "600/600 [==============================] - 2s 4ms/step - loss: 0.4231 - Accuracy: 0.8150 - val_loss: 0.3872 - val_Accuracy: 0.8470\n",
            "Epoch 78/100\n",
            "600/600 [==============================] - 3s 4ms/step - loss: 0.4179 - Accuracy: 0.8200 - val_loss: 0.3812 - val_Accuracy: 0.8450\n",
            "Epoch 79/100\n",
            "600/600 [==============================] - 3s 4ms/step - loss: 0.4240 - Accuracy: 0.8158 - val_loss: 0.3843 - val_Accuracy: 0.8445\n",
            "Epoch 80/100\n",
            "600/600 [==============================] - 3s 4ms/step - loss: 0.4262 - Accuracy: 0.8112 - val_loss: 0.3838 - val_Accuracy: 0.8455\n",
            "Epoch 81/100\n",
            "600/600 [==============================] - 3s 4ms/step - loss: 0.4169 - Accuracy: 0.8105 - val_loss: 0.3800 - val_Accuracy: 0.8495\n",
            "Epoch 82/100\n",
            "600/600 [==============================] - 3s 4ms/step - loss: 0.4185 - Accuracy: 0.8170 - val_loss: 0.3796 - val_Accuracy: 0.8460\n",
            "Epoch 83/100\n",
            "600/600 [==============================] - 2s 4ms/step - loss: 0.4197 - Accuracy: 0.8188 - val_loss: 0.3820 - val_Accuracy: 0.8475\n",
            "Epoch 84/100\n",
            "600/600 [==============================] - 3s 4ms/step - loss: 0.4249 - Accuracy: 0.8137 - val_loss: 0.3818 - val_Accuracy: 0.8470\n",
            "Epoch 85/100\n",
            "600/600 [==============================] - 2s 4ms/step - loss: 0.4226 - Accuracy: 0.8133 - val_loss: 0.3821 - val_Accuracy: 0.8450\n",
            "Epoch 86/100\n",
            "600/600 [==============================] - 2s 4ms/step - loss: 0.4153 - Accuracy: 0.8178 - val_loss: 0.3836 - val_Accuracy: 0.8445\n",
            "Epoch 87/100\n",
            "600/600 [==============================] - 2s 4ms/step - loss: 0.4263 - Accuracy: 0.8127 - val_loss: 0.3836 - val_Accuracy: 0.8460\n",
            "Epoch 88/100\n",
            "600/600 [==============================] - 3s 4ms/step - loss: 0.4084 - Accuracy: 0.8202 - val_loss: 0.3748 - val_Accuracy: 0.8480\n",
            "Epoch 89/100\n",
            "600/600 [==============================] - 3s 4ms/step - loss: 0.4198 - Accuracy: 0.8185 - val_loss: 0.3783 - val_Accuracy: 0.8410\n",
            "Epoch 90/100\n",
            "600/600 [==============================] - 2s 4ms/step - loss: 0.4188 - Accuracy: 0.8170 - val_loss: 0.3780 - val_Accuracy: 0.8470\n",
            "Epoch 91/100\n",
            "600/600 [==============================] - 3s 4ms/step - loss: 0.4228 - Accuracy: 0.8112 - val_loss: 0.3791 - val_Accuracy: 0.8435\n",
            "Epoch 92/100\n",
            "600/600 [==============================] - 3s 4ms/step - loss: 0.4235 - Accuracy: 0.8108 - val_loss: 0.3799 - val_Accuracy: 0.8440\n",
            "Epoch 93/100\n",
            "600/600 [==============================] - 2s 4ms/step - loss: 0.4196 - Accuracy: 0.8150 - val_loss: 0.3798 - val_Accuracy: 0.8465\n",
            "Epoch 94/100\n",
            "600/600 [==============================] - 3s 4ms/step - loss: 0.4199 - Accuracy: 0.8153 - val_loss: 0.3827 - val_Accuracy: 0.8450\n",
            "Epoch 95/100\n",
            "600/600 [==============================] - 3s 4ms/step - loss: 0.4237 - Accuracy: 0.8130 - val_loss: 0.3825 - val_Accuracy: 0.8460\n",
            "Epoch 96/100\n",
            "600/600 [==============================] - 3s 4ms/step - loss: 0.4156 - Accuracy: 0.8173 - val_loss: 0.3777 - val_Accuracy: 0.8515\n",
            "Epoch 97/100\n",
            "600/600 [==============================] - 3s 4ms/step - loss: 0.4214 - Accuracy: 0.8142 - val_loss: 0.3835 - val_Accuracy: 0.8445\n",
            "Epoch 98/100\n",
            "600/600 [==============================] - 2s 4ms/step - loss: 0.4171 - Accuracy: 0.8192 - val_loss: 0.3780 - val_Accuracy: 0.8485\n",
            "Epoch 99/100\n",
            "600/600 [==============================] - 2s 4ms/step - loss: 0.4257 - Accuracy: 0.8095 - val_loss: 0.3798 - val_Accuracy: 0.8485\n",
            "Epoch 100/100\n",
            "600/600 [==============================] - 3s 4ms/step - loss: 0.4218 - Accuracy: 0.8162 - val_loss: 0.3803 - val_Accuracy: 0.8470\n"
          ]
        }
      ]
    },
    {
      "cell_type": "code",
      "source": [
        "!pip install scikeras"
      ],
      "metadata": {
        "colab": {
          "base_uri": "https://localhost:8080/"
        },
        "id": "nCMjtpsFbfgi",
        "outputId": "3ce964c2-56f6-48e4-b5cd-d7bc827bfc89"
      },
      "execution_count": null,
      "outputs": [
        {
          "output_type": "stream",
          "name": "stdout",
          "text": [
            "Collecting scikeras\n",
            "  Downloading scikeras-0.6.0-py3-none-any.whl (27 kB)\n",
            "Collecting importlib-metadata<4,>=3\n",
            "  Downloading importlib_metadata-3.10.1-py3-none-any.whl (14 kB)\n",
            "Requirement already satisfied: packaging<22.0,>=0.21 in /usr/local/lib/python3.7/dist-packages (from scikeras) (21.3)\n",
            "Requirement already satisfied: scikit-learn>=1.0.0 in /usr/local/lib/python3.7/dist-packages (from scikeras) (1.0.2)\n",
            "Requirement already satisfied: zipp>=0.5 in /usr/local/lib/python3.7/dist-packages (from importlib-metadata<4,>=3->scikeras) (3.7.0)\n",
            "Requirement already satisfied: typing-extensions>=3.6.4 in /usr/local/lib/python3.7/dist-packages (from importlib-metadata<4,>=3->scikeras) (3.10.0.2)\n",
            "Requirement already satisfied: pyparsing!=3.0.5,>=2.0.2 in /usr/local/lib/python3.7/dist-packages (from packaging<22.0,>=0.21->scikeras) (3.0.7)\n",
            "Requirement already satisfied: joblib>=0.11 in /usr/local/lib/python3.7/dist-packages (from scikit-learn>=1.0.0->scikeras) (1.1.0)\n",
            "Requirement already satisfied: threadpoolctl>=2.0.0 in /usr/local/lib/python3.7/dist-packages (from scikit-learn>=1.0.0->scikeras) (3.1.0)\n",
            "Requirement already satisfied: scipy>=1.1.0 in /usr/local/lib/python3.7/dist-packages (from scikit-learn>=1.0.0->scikeras) (1.4.1)\n",
            "Requirement already satisfied: numpy>=1.14.6 in /usr/local/lib/python3.7/dist-packages (from scikit-learn>=1.0.0->scikeras) (1.19.5)\n",
            "Installing collected packages: importlib-metadata, scikeras\n",
            "  Attempting uninstall: importlib-metadata\n",
            "    Found existing installation: importlib-metadata 4.10.1\n",
            "    Uninstalling importlib-metadata-4.10.1:\n",
            "      Successfully uninstalled importlib-metadata-4.10.1\n",
            "\u001b[31mERROR: pip's dependency resolver does not currently take into account all the packages that are installed. This behaviour is the source of the following dependency conflicts.\n",
            "markdown 3.3.6 requires importlib-metadata>=4.4; python_version < \"3.10\", but you have importlib-metadata 3.10.1 which is incompatible.\u001b[0m\n",
            "Successfully installed importlib-metadata-3.10.1 scikeras-0.6.0\n"
          ]
        }
      ]
    },
    {
      "cell_type": "code",
      "source": [
        "from scikeras.wrappers import KerasClassifier\n",
        "from sklearn.model_selection import GridSearchCV"
      ],
      "metadata": {
        "id": "yx1Jh_8gIiH6"
      },
      "execution_count": null,
      "outputs": []
    },
    {
      "cell_type": "code",
      "source": [
        "def create_model(layers):\n",
        "  model=Sequential()\n",
        "  for i,nodes in enumerate(layers):\n",
        "    if i==0:\n",
        "      model.add(Dense(nodes,input_dim=x_train.shape[1],activation='relu'))\n",
        "      model.add(Dropout(0.3))\n",
        "    else:\n",
        "      model.add(Dense(nodes,activation='relu'))\n",
        "      model.add(Dropout(0.3))\n",
        "  model.add(Dense(units=1,kernel_initializer='glorot_uniform',activation='sigmoid'))\n",
        "  model.compile(optimizer='adam',loss='BinaryCrossentropy',metrics=['accuracy'])\n",
        "  return model"
      ],
      "metadata": {
        "id": "E52kc_vYEbT9"
      },
      "execution_count": null,
      "outputs": []
    },
    {
      "cell_type": "code",
      "source": [
        "layers=[45,30,15]\n",
        "# activations=[\"sigmoid\",\"relu\"]\n",
        "param_grid=dict(batch_size=[150,250],epochs=[100])\n",
        "model=KerasClassifier(model=create_model,verbose=0,layers=layers)"
      ],
      "metadata": {
        "id": "rgUvNxONGB3V"
      },
      "execution_count": null,
      "outputs": []
    },
    {
      "cell_type": "code",
      "source": [
        "\n",
        "grid=GridSearchCV(estimator=model,param_grid=param_grid,cv=5)\n",
        "# activation=activations"
      ],
      "metadata": {
        "id": "MOCr9hmwGROT"
      },
      "execution_count": null,
      "outputs": []
    },
    {
      "cell_type": "code",
      "source": [
        "grid_result=grid.fit(x_train,y_train)"
      ],
      "metadata": {
        "id": "NXEmxNgtaIxq"
      },
      "execution_count": null,
      "outputs": []
    },
    {
      "cell_type": "code",
      "source": [
        "print(grid_result.best_score_,grid_result.best_params_)"
      ],
      "metadata": {
        "colab": {
          "base_uri": "https://localhost:8080/"
        },
        "id": "nkVEMrqTHaL0",
        "outputId": "45ed5cff-cb77-4618-ec62-9cd1e44abe7d"
      },
      "execution_count": null,
      "outputs": [
        {
          "output_type": "stream",
          "name": "stdout",
          "text": [
            "0.8602500000000001 {'batch_size': 150, 'epochs': 100}\n"
          ]
        }
      ]
    },
    {
      "cell_type": "code",
      "source": [
        "y_pre=grid.predict(x_test)\n",
        "y_pred=(y_pre>0.5)"
      ],
      "metadata": {
        "id": "M2u8WcWsHq4B"
      },
      "execution_count": null,
      "outputs": []
    },
    {
      "cell_type": "code",
      "source": [
        "from sklearn.metrics import accuracy_score,confusion_matrix\n",
        "cm=confusion_matrix(y_pred,y_test)\n",
        "score=accuracy_score(y_pred,y_test)\n",
        "print(score)"
      ],
      "metadata": {
        "colab": {
          "base_uri": "https://localhost:8080/"
        },
        "id": "u2xfmmAbH72E",
        "outputId": "3c3e7e70-00f0-4456-e74d-e7a90f5e38a9"
      },
      "execution_count": null,
      "outputs": [
        {
          "output_type": "stream",
          "name": "stdout",
          "text": [
            "0.863\n"
          ]
        }
      ]
    },
    {
      "cell_type": "code",
      "source": [
        "def build_model(hp):\n",
        "  model=Sequential()\n",
        "  for i in range(hp.Int('num_layers',2,20)):\n",
        "    model.add(Dense(units=hp.Int('units_'+str(i),min_value=32,max_value=512,step=32),activation='relu'))\n",
        "  model.add(Dense(1,activation='sigmoid'))\n",
        "  model.compile(optimizer='adam', loss='BinaryCrossentropy', metrics='Accuracy')\n",
        "  return model\n",
        "# hp.Choice('learning_rate',[1e-2,1e-3,1e-4])"
      ],
      "metadata": {
        "id": "O4weuJun5dza"
      },
      "execution_count": null,
      "outputs": []
    },
    {
      "cell_type": "code",
      "source": [
        "!pip install keras-tuner"
      ],
      "metadata": {
        "colab": {
          "base_uri": "https://localhost:8080/",
          "height": 1000
        },
        "id": "-oj75kOA9l4l",
        "outputId": "9ee7b2df-12ec-4c5c-eed1-6d37b43bcf09"
      },
      "execution_count": null,
      "outputs": [
        {
          "output_type": "stream",
          "name": "stdout",
          "text": [
            "Collecting keras-tuner\n",
            "  Downloading keras_tuner-1.1.0-py3-none-any.whl (98 kB)\n",
            "\u001b[?25l\r\u001b[K     |███▍                            | 10 kB 21.1 MB/s eta 0:00:01\r\u001b[K     |██████▊                         | 20 kB 22.5 MB/s eta 0:00:01\r\u001b[K     |██████████                      | 30 kB 10.5 MB/s eta 0:00:01\r\u001b[K     |█████████████▍                  | 40 kB 8.6 MB/s eta 0:00:01\r\u001b[K     |████████████████▊               | 51 kB 5.5 MB/s eta 0:00:01\r\u001b[K     |████████████████████            | 61 kB 5.5 MB/s eta 0:00:01\r\u001b[K     |███████████████████████▍        | 71 kB 5.5 MB/s eta 0:00:01\r\u001b[K     |██████████████████████████▊     | 81 kB 6.2 MB/s eta 0:00:01\r\u001b[K     |██████████████████████████████  | 92 kB 4.9 MB/s eta 0:00:01\r\u001b[K     |████████████████████████████████| 98 kB 3.2 MB/s \n",
            "\u001b[?25hRequirement already satisfied: numpy in /usr/local/lib/python3.7/dist-packages (from keras-tuner) (1.19.5)\n",
            "Requirement already satisfied: scipy in /usr/local/lib/python3.7/dist-packages (from keras-tuner) (1.4.1)\n",
            "Requirement already satisfied: ipython in /usr/local/lib/python3.7/dist-packages (from keras-tuner) (5.5.0)\n",
            "Requirement already satisfied: packaging in /usr/local/lib/python3.7/dist-packages (from keras-tuner) (21.3)\n",
            "Requirement already satisfied: requests in /usr/local/lib/python3.7/dist-packages (from keras-tuner) (2.23.0)\n",
            "Requirement already satisfied: tensorboard in /usr/local/lib/python3.7/dist-packages (from keras-tuner) (2.7.0)\n",
            "Collecting kt-legacy\n",
            "  Downloading kt_legacy-1.0.4-py3-none-any.whl (9.6 kB)\n",
            "Requirement already satisfied: traitlets>=4.2 in /usr/local/lib/python3.7/dist-packages (from ipython->keras-tuner) (5.1.1)\n",
            "Requirement already satisfied: simplegeneric>0.8 in /usr/local/lib/python3.7/dist-packages (from ipython->keras-tuner) (0.8.1)\n",
            "Requirement already satisfied: decorator in /usr/local/lib/python3.7/dist-packages (from ipython->keras-tuner) (4.4.2)\n",
            "Requirement already satisfied: pygments in /usr/local/lib/python3.7/dist-packages (from ipython->keras-tuner) (2.6.1)\n",
            "Requirement already satisfied: prompt-toolkit<2.0.0,>=1.0.4 in /usr/local/lib/python3.7/dist-packages (from ipython->keras-tuner) (1.0.18)\n",
            "Requirement already satisfied: pickleshare in /usr/local/lib/python3.7/dist-packages (from ipython->keras-tuner) (0.7.5)\n",
            "Requirement already satisfied: pexpect in /usr/local/lib/python3.7/dist-packages (from ipython->keras-tuner) (4.8.0)\n",
            "Requirement already satisfied: setuptools>=18.5 in /usr/local/lib/python3.7/dist-packages (from ipython->keras-tuner) (57.4.0)\n",
            "Requirement already satisfied: wcwidth in /usr/local/lib/python3.7/dist-packages (from prompt-toolkit<2.0.0,>=1.0.4->ipython->keras-tuner) (0.2.5)\n",
            "Requirement already satisfied: six>=1.9.0 in /usr/local/lib/python3.7/dist-packages (from prompt-toolkit<2.0.0,>=1.0.4->ipython->keras-tuner) (1.15.0)\n",
            "Requirement already satisfied: pyparsing!=3.0.5,>=2.0.2 in /usr/local/lib/python3.7/dist-packages (from packaging->keras-tuner) (3.0.7)\n",
            "Requirement already satisfied: ptyprocess>=0.5 in /usr/local/lib/python3.7/dist-packages (from pexpect->ipython->keras-tuner) (0.7.0)\n",
            "Requirement already satisfied: urllib3!=1.25.0,!=1.25.1,<1.26,>=1.21.1 in /usr/local/lib/python3.7/dist-packages (from requests->keras-tuner) (1.24.3)\n",
            "Requirement already satisfied: idna<3,>=2.5 in /usr/local/lib/python3.7/dist-packages (from requests->keras-tuner) (2.10)\n",
            "Requirement already satisfied: chardet<4,>=3.0.2 in /usr/local/lib/python3.7/dist-packages (from requests->keras-tuner) (3.0.4)\n",
            "Requirement already satisfied: certifi>=2017.4.17 in /usr/local/lib/python3.7/dist-packages (from requests->keras-tuner) (2021.10.8)\n",
            "Requirement already satisfied: protobuf>=3.6.0 in /usr/local/lib/python3.7/dist-packages (from tensorboard->keras-tuner) (3.17.3)\n",
            "Requirement already satisfied: grpcio>=1.24.3 in /usr/local/lib/python3.7/dist-packages (from tensorboard->keras-tuner) (1.43.0)\n",
            "Requirement already satisfied: werkzeug>=0.11.15 in /usr/local/lib/python3.7/dist-packages (from tensorboard->keras-tuner) (1.0.1)\n",
            "Requirement already satisfied: google-auth<3,>=1.6.3 in /usr/local/lib/python3.7/dist-packages (from tensorboard->keras-tuner) (1.35.0)\n",
            "Requirement already satisfied: markdown>=2.6.8 in /usr/local/lib/python3.7/dist-packages (from tensorboard->keras-tuner) (3.3.6)\n",
            "Requirement already satisfied: google-auth-oauthlib<0.5,>=0.4.1 in /usr/local/lib/python3.7/dist-packages (from tensorboard->keras-tuner) (0.4.6)\n",
            "Requirement already satisfied: wheel>=0.26 in /usr/local/lib/python3.7/dist-packages (from tensorboard->keras-tuner) (0.37.1)\n",
            "Requirement already satisfied: tensorboard-data-server<0.7.0,>=0.6.0 in /usr/local/lib/python3.7/dist-packages (from tensorboard->keras-tuner) (0.6.1)\n",
            "Requirement already satisfied: absl-py>=0.4 in /usr/local/lib/python3.7/dist-packages (from tensorboard->keras-tuner) (1.0.0)\n",
            "Requirement already satisfied: tensorboard-plugin-wit>=1.6.0 in /usr/local/lib/python3.7/dist-packages (from tensorboard->keras-tuner) (1.8.1)\n",
            "Requirement already satisfied: rsa<5,>=3.1.4 in /usr/local/lib/python3.7/dist-packages (from google-auth<3,>=1.6.3->tensorboard->keras-tuner) (4.8)\n",
            "Requirement already satisfied: cachetools<5.0,>=2.0.0 in /usr/local/lib/python3.7/dist-packages (from google-auth<3,>=1.6.3->tensorboard->keras-tuner) (4.2.4)\n",
            "Requirement already satisfied: pyasn1-modules>=0.2.1 in /usr/local/lib/python3.7/dist-packages (from google-auth<3,>=1.6.3->tensorboard->keras-tuner) (0.2.8)\n",
            "Requirement already satisfied: requests-oauthlib>=0.7.0 in /usr/local/lib/python3.7/dist-packages (from google-auth-oauthlib<0.5,>=0.4.1->tensorboard->keras-tuner) (1.3.1)\n",
            "Collecting importlib-metadata>=4.4\n",
            "  Downloading importlib_metadata-4.11.0-py3-none-any.whl (17 kB)\n",
            "Requirement already satisfied: typing-extensions>=3.6.4 in /usr/local/lib/python3.7/dist-packages (from importlib-metadata>=4.4->markdown>=2.6.8->tensorboard->keras-tuner) (3.10.0.2)\n",
            "Requirement already satisfied: zipp>=0.5 in /usr/local/lib/python3.7/dist-packages (from importlib-metadata>=4.4->markdown>=2.6.8->tensorboard->keras-tuner) (3.7.0)\n",
            "Requirement already satisfied: pyasn1<0.5.0,>=0.4.6 in /usr/local/lib/python3.7/dist-packages (from pyasn1-modules>=0.2.1->google-auth<3,>=1.6.3->tensorboard->keras-tuner) (0.4.8)\n",
            "Requirement already satisfied: oauthlib>=3.0.0 in /usr/local/lib/python3.7/dist-packages (from requests-oauthlib>=0.7.0->google-auth-oauthlib<0.5,>=0.4.1->tensorboard->keras-tuner) (3.2.0)\n",
            "Installing collected packages: importlib-metadata, kt-legacy, keras-tuner\n",
            "  Attempting uninstall: importlib-metadata\n",
            "    Found existing installation: importlib-metadata 3.10.1\n",
            "    Uninstalling importlib-metadata-3.10.1:\n",
            "      Successfully uninstalled importlib-metadata-3.10.1\n",
            "\u001b[31mERROR: pip's dependency resolver does not currently take into account all the packages that are installed. This behaviour is the source of the following dependency conflicts.\n",
            "scikeras 0.6.0 requires importlib-metadata<4,>=3; python_version < \"3.8\", but you have importlib-metadata 4.11.0 which is incompatible.\u001b[0m\n",
            "Successfully installed importlib-metadata-4.11.0 keras-tuner-1.1.0 kt-legacy-1.0.4\n"
          ]
        },
        {
          "output_type": "display_data",
          "data": {
            "application/vnd.colab-display-data+json": {
              "pip_warning": {
                "packages": [
                  "importlib_metadata"
                ]
              }
            }
          },
          "metadata": {}
        }
      ]
    },
    {
      "cell_type": "code",
      "source": [
        "from keras_tuner.tuners import RandomSearch"
      ],
      "metadata": {
        "id": "5KvvASvD9aWG"
      },
      "execution_count": null,
      "outputs": []
    },
    {
      "cell_type": "code",
      "source": [
        "# tuner=tuners()\n",
        "tuner=RandomSearch(\n",
        "    build_model,\n",
        "    objective='Accuracy',\n",
        "    max_trials=10,\n",
        "    executions_per_trial=5,\n",
        "    directory='Churn Modelling',\n",
        "    project_name='Churn-Modelling'\n",
        "    # tuner.search_space_memory\n",
        ")"
      ],
      "metadata": {
        "id": "z_rUFgEV5YBg"
      },
      "execution_count": null,
      "outputs": []
    },
    {
      "cell_type": "code",
      "source": [
        "tuner.search(x_train,y_train,epochs=50,validation_data=(x_test,y_test))"
      ],
      "metadata": {
        "colab": {
          "base_uri": "https://localhost:8080/"
        },
        "id": "rm4nlFqW9I0u",
        "outputId": "a5f1f7a0-64f7-40e1-866c-ec5d906d8d0a"
      },
      "execution_count": null,
      "outputs": [
        {
          "output_type": "stream",
          "name": "stdout",
          "text": [
            "Trial 10 Complete [00h 10m 43s]\n",
            "Accuracy: 0.9461749911308288\n",
            "\n",
            "Best Accuracy So Far: 0.9780250072479248\n",
            "Total elapsed time: 01h 21m 37s\n",
            "INFO:tensorflow:Oracle triggered exit\n"
          ]
        }
      ]
    },
    {
      "cell_type": "code",
      "source": [
        "tuner.results_summary()"
      ],
      "metadata": {
        "colab": {
          "base_uri": "https://localhost:8080/"
        },
        "id": "-kXOpcqx-gyM",
        "outputId": "d354de2a-9104-4579-b009-754cbbd1a312"
      },
      "execution_count": null,
      "outputs": [
        {
          "output_type": "stream",
          "name": "stdout",
          "text": [
            "Results summary\n",
            "Results in Churn Modelling/Churn-Modelling\n",
            "Showing 10 best trials\n",
            "Objective(name='Accuracy', direction='max')\n",
            "Trial summary\n",
            "Hyperparameters:\n",
            "num_layers: 5\n",
            "units_0: 160\n",
            "units_1: 352\n",
            "units_2: 160\n",
            "units_3: 480\n",
            "units_4: 288\n",
            "units_5: 256\n",
            "units_6: 288\n",
            "units_7: 384\n",
            "units_8: 480\n",
            "units_9: 384\n",
            "units_10: 160\n",
            "units_11: 416\n",
            "units_12: 448\n",
            "units_13: 416\n",
            "units_14: 416\n",
            "units_15: 416\n",
            "units_16: 224\n",
            "units_17: 64\n",
            "units_18: 192\n",
            "Score: 0.9780250072479248\n",
            "Trial summary\n",
            "Hyperparameters:\n",
            "num_layers: 8\n",
            "units_0: 448\n",
            "units_1: 288\n",
            "units_2: 160\n",
            "units_3: 320\n",
            "units_4: 288\n",
            "units_5: 480\n",
            "units_6: 64\n",
            "units_7: 512\n",
            "units_8: 32\n",
            "units_9: 256\n",
            "units_10: 96\n",
            "Score: 0.9679249882698059\n",
            "Trial summary\n",
            "Hyperparameters:\n",
            "num_layers: 10\n",
            "units_0: 352\n",
            "units_1: 288\n",
            "units_2: 224\n",
            "units_3: 192\n",
            "units_4: 192\n",
            "units_5: 416\n",
            "units_6: 128\n",
            "units_7: 64\n",
            "units_8: 480\n",
            "units_9: 288\n",
            "units_10: 96\n",
            "Score: 0.966474997997284\n",
            "Trial summary\n",
            "Hyperparameters:\n",
            "num_layers: 5\n",
            "units_0: 320\n",
            "units_1: 256\n",
            "units_2: 32\n",
            "units_3: 352\n",
            "units_4: 480\n",
            "units_5: 384\n",
            "units_6: 96\n",
            "units_7: 128\n",
            "units_8: 96\n",
            "units_9: 192\n",
            "units_10: 192\n",
            "units_11: 96\n",
            "units_12: 224\n",
            "units_13: 256\n",
            "units_14: 480\n",
            "units_15: 352\n",
            "units_16: 288\n",
            "units_17: 160\n",
            "units_18: 256\n",
            "Score: 0.9590000033378601\n",
            "Trial summary\n",
            "Hyperparameters:\n",
            "num_layers: 13\n",
            "units_0: 416\n",
            "units_1: 512\n",
            "units_2: 480\n",
            "units_3: 256\n",
            "units_4: 320\n",
            "units_5: 96\n",
            "units_6: 224\n",
            "units_7: 96\n",
            "units_8: 448\n",
            "units_9: 128\n",
            "units_10: 384\n",
            "units_11: 416\n",
            "units_12: 32\n",
            "units_13: 192\n",
            "units_14: 288\n",
            "units_15: 352\n",
            "units_16: 288\n",
            "units_17: 32\n",
            "units_18: 256\n",
            "Score: 0.9585999965667724\n",
            "Trial summary\n",
            "Hyperparameters:\n",
            "num_layers: 16\n",
            "units_0: 64\n",
            "units_1: 128\n",
            "units_2: 160\n",
            "units_3: 64\n",
            "units_4: 192\n",
            "units_5: 352\n",
            "units_6: 448\n",
            "units_7: 96\n",
            "units_8: 128\n",
            "units_9: 288\n",
            "units_10: 448\n",
            "units_11: 448\n",
            "units_12: 416\n",
            "units_13: 448\n",
            "units_14: 320\n",
            "units_15: 480\n",
            "units_16: 64\n",
            "units_17: 384\n",
            "units_18: 256\n",
            "Score: 0.9461749911308288\n",
            "Trial summary\n",
            "Hyperparameters:\n",
            "num_layers: 2\n",
            "units_0: 256\n",
            "units_1: 384\n",
            "units_2: 480\n",
            "units_3: 256\n",
            "units_4: 96\n",
            "units_5: 288\n",
            "units_6: 352\n",
            "units_7: 384\n",
            "units_8: 416\n",
            "units_9: 192\n",
            "units_10: 448\n",
            "Score: 0.9443000078201294\n",
            "Trial summary\n",
            "Hyperparameters:\n",
            "num_layers: 11\n",
            "units_0: 416\n",
            "units_1: 320\n",
            "units_2: 32\n",
            "units_3: 32\n",
            "units_4: 32\n",
            "units_5: 32\n",
            "units_6: 32\n",
            "units_7: 32\n",
            "units_8: 32\n",
            "units_9: 32\n",
            "units_10: 32\n",
            "Score: 0.9439750075340271\n",
            "Trial summary\n",
            "Hyperparameters:\n",
            "num_layers: 19\n",
            "units_0: 480\n",
            "units_1: 288\n",
            "units_2: 448\n",
            "units_3: 32\n",
            "units_4: 320\n",
            "units_5: 320\n",
            "units_6: 64\n",
            "units_7: 224\n",
            "units_8: 224\n",
            "units_9: 256\n",
            "units_10: 256\n",
            "units_11: 32\n",
            "units_12: 32\n",
            "units_13: 32\n",
            "units_14: 32\n",
            "units_15: 32\n",
            "units_16: 32\n",
            "units_17: 32\n",
            "units_18: 32\n",
            "Score: 0.9373749971389771\n",
            "Trial summary\n",
            "Hyperparameters:\n",
            "num_layers: 19\n",
            "units_0: 64\n",
            "units_1: 416\n",
            "units_2: 160\n",
            "units_3: 480\n",
            "units_4: 320\n",
            "units_5: 160\n",
            "units_6: 512\n",
            "units_7: 288\n",
            "units_8: 352\n",
            "units_9: 256\n",
            "units_10: 160\n",
            "units_11: 128\n",
            "units_12: 384\n",
            "units_13: 352\n",
            "units_14: 320\n",
            "units_15: 160\n",
            "units_16: 288\n",
            "units_17: 512\n",
            "units_18: 256\n",
            "Score: 0.9331999897956849\n"
          ]
        }
      ]
    },
    {
      "cell_type": "code",
      "source": [
        ""
      ],
      "metadata": {
        "id": "EKnu1w9s31cP"
      },
      "execution_count": null,
      "outputs": []
    }
  ]
}